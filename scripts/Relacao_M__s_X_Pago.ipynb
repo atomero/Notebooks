{
 "cells": [
  {
   "cell_type": "code",
   "execution_count": 1,
   "metadata": {},
   "outputs": [
    {
     "name": "stdout",
     "output_type": "stream",
     "text": [
      "Populating the interactive namespace from numpy and matplotlib\n"
     ]
    }
   ],
   "source": [
    "%pylab inline\n",
    "import glob\n",
    "import pandas as pd\n",
    "import math\n",
    "import dateutil"
   ]
  },
  {
   "cell_type": "code",
   "execution_count": 2,
   "metadata": {},
   "outputs": [
    {
     "data": {
      "text/plain": [
       "Index([u'Data Emissão', u'OB Origem', u'NE Origem', u'No Processo', u'Credor',\n",
       "       u'Nome Credor', u'Finalidade', u'Fonte de Recurso',\n",
       "       u'Natureza Detalhada', u'Nome Natureza Detalhada', u'UG Executora',\n",
       "       u'Nome UG Executora', u'Mês Emissão', u'Pago'],\n",
       "      dtype='object')"
      ]
     },
     "execution_count": 2,
     "metadata": {},
     "output_type": "execute_result"
    }
   ],
   "source": [
    "path = '../csv/original/'\n",
    "filenames = glob.glob(path + \"/*.csv\")\n",
    "\n",
    "list_ = []\n",
    "frame = pd.DataFrame()\n",
    "\n",
    "# Para cada um dos csv\n",
    "for filename in filenames:\n",
    "    # Leia o CSV\n",
    "    df = pd.read_csv(filename, index_col = False)\n",
    "    # Coloque na lista de CSV\n",
    "    list_.append(df)\n",
    "\n",
    "frame = pd.concat(list_)\n",
    "frame.columns"
   ]
  },
  {
   "cell_type": "code",
   "execution_count": 3,
   "metadata": {},
   "outputs": [],
   "source": [
    "df_clean = frame"
   ]
  },
  {
   "cell_type": "code",
   "execution_count": 4,
   "metadata": {},
   "outputs": [
    {
     "data": {
      "text/plain": [
       "\"\\ndf_clean['Nome Credor'] = df_clean['Nome Credor'].str.replace('\\n',' ')\\ndf_clean['Nome Credor'] = df_clean['Nome Credor'].str.replace('\\r',' ')\\n\\ndf_clean['Nome UG Executora'] = df_clean['Nome UG Executora'].str.replace('\\n',' ')\\ndf_clean['Nome UG Executora'] = df_clean['Nome UG Executora'].str.replace('\\r',' ')\\n\\ndf_clean['Nome Natureza Detalhada'] = df_clean['Nome Natureza Detalhada'].str.replace('\\n',' ')\\ndf_clean['Nome Natureza Detalhada'] = df_clean['Nome Natureza Detalhada'].str.replace('\\r',' ')\\ndf_clean['Nome Natureza Detalhada'] = df_clean['Nome Natureza Detalhada'].str.replace('.',' ')\\ndf_clean['Nome Natureza Detalhada'] = df_clean['Nome Natureza Detalhada'].str.replace('-',' ')\\ndf_clean['Nome Natureza Detalhada'] = df_clean['Nome Natureza Detalhada'].str.replace(',',' ')\\ndf_clean['Nome Natureza Detalhada'] = df_clean['Nome Natureza Detalhada'].str.replace('/',' ')\\ndf_clean['Nome Natureza Detalhada'] = df_clean['Nome Natureza Detalhada'].str.replace('  ',' ')\\ndf_clean['Nome Natureza Detalhada'] = df_clean['Nome Natureza Detalhada'].str.replace('   ',' ')\\ndf_clean['Nome Natureza Detalhada'] = df_clean['Nome Natureza Detalhada'].str.replace('    ',' ')\\ndf_clean['Nome Natureza Detalhada'] = df_clean['Nome Natureza Detalhada'].str.replace('T I','TI')\\n\\ndf_clean['Finalidade'] = df_clean['Finalidade'].str.replace('\\n',' ')\\ndf_clean['Finalidade'] = df_clean['Finalidade'].str.replace('//','')\\ndf_clean['Finalidade'] = df_clean['Finalidade'].str.replace('\\r',' ')\\n\""
      ]
     },
     "execution_count": 4,
     "metadata": {},
     "output_type": "execute_result"
    }
   ],
   "source": [
    "# Limpeza do dataframe\n",
    "df_clean['Pago'] = df_clean['Pago'].str.strip()\n",
    "df_clean['Pago'] = df_clean['Pago'].str.replace(' ','')\n",
    "df_clean['Pago'] = df_clean['Pago'].str.replace('(','')\n",
    "df_clean['Pago'] = df_clean['Pago'].str.replace(')','')\n",
    "df_clean['Pago'] = df_clean['Pago'].str.replace('.','')\n",
    "df_clean['Pago'] = df_clean['Pago'].str.replace(',','.')\n",
    "\n",
    "'''\n",
    "df_clean['Nome Credor'] = df_clean['Nome Credor'].str.replace('\\n',' ')\n",
    "df_clean['Nome Credor'] = df_clean['Nome Credor'].str.replace('\\r',' ')\n",
    "\n",
    "df_clean['Nome UG Executora'] = df_clean['Nome UG Executora'].str.replace('\\n',' ')\n",
    "df_clean['Nome UG Executora'] = df_clean['Nome UG Executora'].str.replace('\\r',' ')\n",
    "\n",
    "df_clean['Nome Natureza Detalhada'] = df_clean['Nome Natureza Detalhada'].str.replace('\\n',' ')\n",
    "df_clean['Nome Natureza Detalhada'] = df_clean['Nome Natureza Detalhada'].str.replace('\\r',' ')\n",
    "df_clean['Nome Natureza Detalhada'] = df_clean['Nome Natureza Detalhada'].str.replace('.',' ')\n",
    "df_clean['Nome Natureza Detalhada'] = df_clean['Nome Natureza Detalhada'].str.replace('-',' ')\n",
    "df_clean['Nome Natureza Detalhada'] = df_clean['Nome Natureza Detalhada'].str.replace(',',' ')\n",
    "df_clean['Nome Natureza Detalhada'] = df_clean['Nome Natureza Detalhada'].str.replace('/',' ')\n",
    "df_clean['Nome Natureza Detalhada'] = df_clean['Nome Natureza Detalhada'].str.replace('  ',' ')\n",
    "df_clean['Nome Natureza Detalhada'] = df_clean['Nome Natureza Detalhada'].str.replace('   ',' ')\n",
    "df_clean['Nome Natureza Detalhada'] = df_clean['Nome Natureza Detalhada'].str.replace('    ',' ')\n",
    "df_clean['Nome Natureza Detalhada'] = df_clean['Nome Natureza Detalhada'].str.replace('T I','TI')\n",
    "\n",
    "df_clean['Finalidade'] = df_clean['Finalidade'].str.replace('\\n',' ')\n",
    "df_clean['Finalidade'] = df_clean['Finalidade'].str.replace('//','')\n",
    "df_clean['Finalidade'] = df_clean['Finalidade'].str.replace('\\r',' ')\n",
    "'''"
   ]
  },
  {
   "cell_type": "code",
   "execution_count": 5,
   "metadata": {},
   "outputs": [
    {
     "data": {
      "text/plain": [
       "(103465, 14)"
      ]
     },
     "execution_count": 5,
     "metadata": {},
     "output_type": "execute_result"
    }
   ],
   "source": [
    "df_clean.shape"
   ]
  },
  {
   "cell_type": "code",
   "execution_count": 6,
   "metadata": {},
   "outputs": [],
   "source": [
    "# Removendo o que? Não estamos perdendo linhas importântes?\n",
    "df_clean = df_clean.dropna()\n",
    "\n",
    "# Tem como converter esses 'NaN' para 0 ?\n",
    "\n",
    "# Como usar o astype(int) ou astype(float) sem dropar esses valores acima?"
   ]
  },
  {
   "cell_type": "code",
   "execution_count": 7,
   "metadata": {
    "scrolled": false
   },
   "outputs": [
    {
     "data": {
      "text/plain": [
       "(83431, 14)"
      ]
     },
     "execution_count": 7,
     "metadata": {},
     "output_type": "execute_result"
    }
   ],
   "source": [
    "df_clean.shape\n",
    "\n",
    "# O que tinha nas 20 mil linhas que foram dropadas?"
   ]
  },
  {
   "cell_type": "code",
   "execution_count": null,
   "metadata": {},
   "outputs": [],
   "source": []
  },
  {
   "cell_type": "code",
   "execution_count": null,
   "metadata": {},
   "outputs": [],
   "source": []
  },
  {
   "cell_type": "code",
   "execution_count": null,
   "metadata": {},
   "outputs": [],
   "source": []
  },
  {
   "cell_type": "markdown",
   "metadata": {},
   "source": [
    "## Como remover os NaN sem perder informação?"
   ]
  },
  {
   "cell_type": "code",
   "execution_count": 8,
   "metadata": {},
   "outputs": [],
   "source": [
    "# df_clean = df_clean.fillna(0, inplace=False)\n",
    "# df_clean"
   ]
  },
  {
   "cell_type": "code",
   "execution_count": 9,
   "metadata": {},
   "outputs": [],
   "source": [
    "# df_clean['Mês Emissão'].astype(int)"
   ]
  },
  {
   "cell_type": "markdown",
   "metadata": {},
   "source": [
    "## FIM"
   ]
  },
  {
   "cell_type": "code",
   "execution_count": null,
   "metadata": {},
   "outputs": [],
   "source": []
  },
  {
   "cell_type": "code",
   "execution_count": null,
   "metadata": {},
   "outputs": [],
   "source": []
  },
  {
   "cell_type": "code",
   "execution_count": null,
   "metadata": {},
   "outputs": [],
   "source": []
  },
  {
   "cell_type": "code",
   "execution_count": 10,
   "metadata": {},
   "outputs": [
    {
     "name": "stderr",
     "output_type": "stream",
     "text": [
      "/usr/local/lib/python2.7/dist-packages/ipykernel_launcher.py:4: SettingWithCopyWarning: \n",
      "A value is trying to be set on a copy of a slice from a DataFrame.\n",
      "Try using .loc[row_indexer,col_indexer] = value instead\n",
      "\n",
      "See the caveats in the documentation: http://pandas.pydata.org/pandas-docs/stable/indexing.html#indexing-view-versus-copy\n",
      "  after removing the cwd from sys.path.\n",
      "/usr/local/lib/python2.7/dist-packages/ipykernel_launcher.py:7: SettingWithCopyWarning: \n",
      "A value is trying to be set on a copy of a slice from a DataFrame.\n",
      "Try using .loc[row_indexer,col_indexer] = value instead\n",
      "\n",
      "See the caveats in the documentation: http://pandas.pydata.org/pandas-docs/stable/indexing.html#indexing-view-versus-copy\n",
      "  import sys\n"
     ]
    }
   ],
   "source": [
    "# Como tratar esse erro?\n",
    "\n",
    "# Convertendo uma string para inteiro\n",
    "df_clean['Mês Emissão'] = df_clean['Mês Emissão'].astype(int)\n",
    "\n",
    "# Convertendo uma string para float\n",
    "df_clean['Pago'] = df_clean['Pago'].astype(float)"
   ]
  },
  {
   "cell_type": "code",
   "execution_count": 11,
   "metadata": {},
   "outputs": [
    {
     "data": {
      "text/plain": [
       "11    20188\n",
       "5      7819\n",
       "4      6825\n",
       "2      6736\n",
       "3      6582\n",
       "7      6548\n",
       "9      5871\n",
       "8      5609\n",
       "10     5510\n",
       "12     4569\n",
       "6      4316\n",
       "1      2858\n",
       "Name: Mês Emissão, dtype: int64"
      ]
     },
     "execution_count": 11,
     "metadata": {},
     "output_type": "execute_result"
    }
   ],
   "source": [
    "# Quantidade de lançamentos de gastos de cada mês\n",
    "df_clean['Mês Emissão'].value_counts()"
   ]
  },
  {
   "cell_type": "code",
   "execution_count": 12,
   "metadata": {},
   "outputs": [],
   "source": [
    "# Agrupando e somando as linhas com descrição iguais\n",
    "table_gastos = df_clean.groupby('Mês Emissão')['Pago'].sum()\n",
    "\n",
    "# Configurando modo de exibição de floats\n",
    "pd.options.display.float_format = '${:,.2f}'.format"
   ]
  },
  {
   "cell_type": "code",
   "execution_count": 13,
   "metadata": {},
   "outputs": [
    {
     "data": {
      "text/plain": [
       "Mês Emissão\n",
       "1     $88,864,705.48\n",
       "2     $98,132,931.01\n",
       "3    $104,903,381.02\n",
       "4     $98,383,238.33\n",
       "5    $111,949,066.14\n",
       "6    $153,031,347.30\n",
       "7    $100,315,249.97\n",
       "8    $114,933,603.91\n",
       "9    $104,623,070.82\n",
       "10    $94,254,725.83\n",
       "11   $144,050,153.08\n",
       "12   $146,383,067.68\n",
       "Name: Pago, dtype: float64"
      ]
     },
     "execution_count": 13,
     "metadata": {},
     "output_type": "execute_result"
    }
   ],
   "source": [
    "table_gastos"
   ]
  },
  {
   "cell_type": "code",
   "execution_count": 14,
   "metadata": {},
   "outputs": [
    {
     "data": {
      "text/html": [
       "<div>\n",
       "<style scoped>\n",
       "    .dataframe tbody tr th:only-of-type {\n",
       "        vertical-align: middle;\n",
       "    }\n",
       "\n",
       "    .dataframe tbody tr th {\n",
       "        vertical-align: top;\n",
       "    }\n",
       "\n",
       "    .dataframe thead th {\n",
       "        text-align: right;\n",
       "    }\n",
       "</style>\n",
       "<table border=\"1\" class=\"dataframe\">\n",
       "  <thead>\n",
       "    <tr style=\"text-align: right;\">\n",
       "      <th></th>\n",
       "      <th>Mês Emissão</th>\n",
       "      <th>Pago</th>\n",
       "    </tr>\n",
       "  </thead>\n",
       "  <tbody>\n",
       "    <tr>\n",
       "      <th>0</th>\n",
       "      <td>1</td>\n",
       "      <td>$88,864,705.48</td>\n",
       "    </tr>\n",
       "    <tr>\n",
       "      <th>1</th>\n",
       "      <td>2</td>\n",
       "      <td>$98,132,931.01</td>\n",
       "    </tr>\n",
       "    <tr>\n",
       "      <th>2</th>\n",
       "      <td>3</td>\n",
       "      <td>$104,903,381.02</td>\n",
       "    </tr>\n",
       "    <tr>\n",
       "      <th>3</th>\n",
       "      <td>4</td>\n",
       "      <td>$98,383,238.33</td>\n",
       "    </tr>\n",
       "    <tr>\n",
       "      <th>4</th>\n",
       "      <td>5</td>\n",
       "      <td>$111,949,066.14</td>\n",
       "    </tr>\n",
       "  </tbody>\n",
       "</table>\n",
       "</div>"
      ],
      "text/plain": [
       "   Mês Emissão            Pago\n",
       "0            1  $88,864,705.48\n",
       "1            2  $98,132,931.01\n",
       "2            3 $104,903,381.02\n",
       "3            4  $98,383,238.33\n",
       "4            5 $111,949,066.14"
      ]
     },
     "execution_count": 14,
     "metadata": {},
     "output_type": "execute_result"
    }
   ],
   "source": [
    "# Convertendo Series para Dataframe\n",
    "df_gastos = pd.DataFrame(table_gastos).reset_index()\n",
    "\n",
    "# Ordenando em ordem alfabética para facilitar visualização de descrições que podem ser agrupadas\n",
    "df_gastos = df_gastos.sort_values(by='Mês Emissão')\n",
    "\n",
    "\n",
    "df_gastos.head()\n",
    "# Repare que algumas linhas da natureza detalhada possuem descrições diferêntes,\n",
    "# porém deveriam está agrupadas juntas (ex.: 13 sal)"
   ]
  },
  {
   "cell_type": "code",
   "execution_count": 15,
   "metadata": {},
   "outputs": [
    {
     "data": {
      "text/plain": [
       "Mês Emissão\n",
       "1     $88,864,705.48\n",
       "2     $98,132,931.01\n",
       "3    $104,903,381.02\n",
       "4     $98,383,238.33\n",
       "5    $111,949,066.14\n",
       "6    $153,031,347.30\n",
       "7    $100,315,249.97\n",
       "8    $114,933,603.91\n",
       "9    $104,623,070.82\n",
       "10    $94,254,725.83\n",
       "11   $144,050,153.08\n",
       "12   $146,383,067.68\n",
       "Name: Pago, dtype: float64"
      ]
     },
     "execution_count": 15,
     "metadata": {},
     "output_type": "execute_result"
    }
   ],
   "source": [
    "df_gastos = df_gastos.reset_index()\n",
    "df_gastos = df_gastos.groupby('Mês Emissão')['Pago'].sum()\n",
    "df_gastos"
   ]
  },
  {
   "cell_type": "code",
   "execution_count": 16,
   "metadata": {},
   "outputs": [],
   "source": [
    "# Salvando o resultado em um csv\n",
    "df_gastos.to_csv('../csv/parsed/Mês_X_Pago.csv')"
   ]
  }
 ],
 "metadata": {
  "kernelspec": {
   "display_name": "Python 2",
   "language": "python",
   "name": "python2"
  },
  "language_info": {
   "codemirror_mode": {
    "name": "ipython",
    "version": 2
   },
   "file_extension": ".py",
   "mimetype": "text/x-python",
   "name": "python",
   "nbconvert_exporter": "python",
   "pygments_lexer": "ipython2",
   "version": "2.7.12"
  }
 },
 "nbformat": 4,
 "nbformat_minor": 2
}
