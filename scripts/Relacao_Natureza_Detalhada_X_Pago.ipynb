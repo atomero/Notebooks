{
 "cells": [
  {
   "cell_type": "code",
   "execution_count": 1,
   "metadata": {},
   "outputs": [
    {
     "name": "stdout",
     "output_type": "stream",
     "text": [
      "Populating the interactive namespace from numpy and matplotlib\n"
     ]
    }
   ],
   "source": [
    "%pylab inline\n",
    "import glob\n",
    "import pandas as pd\n",
    "import math\n",
    "import dateutil"
   ]
  },
  {
   "cell_type": "code",
   "execution_count": 2,
   "metadata": {},
   "outputs": [
    {
     "data": {
      "text/plain": [
       "Index([u'Data Emissão', u'OB Origem', u'NE Origem', u'No Processo', u'Credor',\n",
       "       u'Nome Credor', u'Finalidade', u'Fonte de Recurso',\n",
       "       u'Natureza Detalhada', u'Nome Natureza Detalhada', u'UG Executora',\n",
       "       u'Nome UG Executora', u'Mês Emissão', u'Pago'],\n",
       "      dtype='object')"
      ]
     },
     "execution_count": 2,
     "metadata": {},
     "output_type": "execute_result"
    }
   ],
   "source": [
    "path = '../csv/original/'\n",
    "filenames = glob.glob(path + \"/*.csv\")\n",
    "\n",
    "list_ = []\n",
    "frame = pd.DataFrame()\n",
    "\n",
    "# Para cada um dos csv\n",
    "for filename in filenames:\n",
    "    # Leia o CSV\n",
    "    df = pd.read_csv(filename, index_col = False)\n",
    "    # Coloque na lista de CSV\n",
    "    list_.append(df)\n",
    "\n",
    "frame = pd.concat(list_)\n",
    "frame.columns"
   ]
  },
  {
   "cell_type": "code",
   "execution_count": 3,
   "metadata": {},
   "outputs": [],
   "source": [
    "df_clean = frame"
   ]
  },
  {
   "cell_type": "code",
   "execution_count": 4,
   "metadata": {},
   "outputs": [],
   "source": [
    "# Limpeza do dataframe\n",
    "df_clean['Pago'] = df_clean['Pago'].str.strip()\n",
    "df_clean['Pago'] = df_clean['Pago'].str.replace(' ','')\n",
    "df_clean['Pago'] = df_clean['Pago'].str.replace('(','')\n",
    "df_clean['Pago'] = df_clean['Pago'].str.replace(')','')\n",
    "df_clean['Pago'] = df_clean['Pago'].str.replace('.','')\n",
    "df_clean['Pago'] = df_clean['Pago'].str.replace(',','.')\n",
    "\n",
    "df_clean['Nome Credor'] = df_clean['Nome Credor'].str.replace('\\n',' ')\n",
    "df_clean['Nome Credor'] = df_clean['Nome Credor'].str.replace('\\r',' ')\n",
    "\n",
    "df_clean['Nome UG Executora'] = df_clean['Nome UG Executora'].str.replace('\\n',' ')\n",
    "df_clean['Nome UG Executora'] = df_clean['Nome UG Executora'].str.replace('\\r',' ')\n",
    "\n",
    "df_clean['Nome Natureza Detalhada'] = df_clean['Nome Natureza Detalhada'].str.replace('\\n',' ')\n",
    "df_clean['Nome Natureza Detalhada'] = df_clean['Nome Natureza Detalhada'].str.replace('\\r',' ')\n",
    "df_clean['Nome Natureza Detalhada'] = df_clean['Nome Natureza Detalhada'].str.replace('.',' ')\n",
    "df_clean['Nome Natureza Detalhada'] = df_clean['Nome Natureza Detalhada'].str.replace('-',' ')\n",
    "df_clean['Nome Natureza Detalhada'] = df_clean['Nome Natureza Detalhada'].str.replace(',',' ')\n",
    "df_clean['Nome Natureza Detalhada'] = df_clean['Nome Natureza Detalhada'].str.replace('/',' ')\n",
    "df_clean['Nome Natureza Detalhada'] = df_clean['Nome Natureza Detalhada'].str.replace('  ',' ')\n",
    "df_clean['Nome Natureza Detalhada'] = df_clean['Nome Natureza Detalhada'].str.replace('   ',' ')\n",
    "df_clean['Nome Natureza Detalhada'] = df_clean['Nome Natureza Detalhada'].str.replace('    ',' ')\n",
    "df_clean['Nome Natureza Detalhada'] = df_clean['Nome Natureza Detalhada'].str.replace('T I','TI')\n",
    "\n",
    "df_clean['Finalidade'] = df_clean['Finalidade'].str.replace('\\n',' ')\n",
    "df_clean['Finalidade'] = df_clean['Finalidade'].str.replace('//','')\n",
    "df_clean['Finalidade'] = df_clean['Finalidade'].str.replace('\\r',' ')"
   ]
  },
  {
   "cell_type": "code",
   "execution_count": 5,
   "metadata": {},
   "outputs": [
    {
     "data": {
      "text/plain": [
       "(103465, 14)"
      ]
     },
     "execution_count": 5,
     "metadata": {},
     "output_type": "execute_result"
    }
   ],
   "source": [
    "df_clean.shape"
   ]
  },
  {
   "cell_type": "code",
   "execution_count": 6,
   "metadata": {},
   "outputs": [],
   "source": [
    "# Removendo o que? Não estamos perdendo linhas importântes?\n",
    "df_clean = df_clean.dropna()\n",
    "\n",
    "# Tem como converter esses 'NaN' para 0 ?\n",
    "\n",
    "# Como usar o astype(int) ou astype(float) sem dropar esses valores acima?"
   ]
  },
  {
   "cell_type": "code",
   "execution_count": 7,
   "metadata": {
    "scrolled": false
   },
   "outputs": [
    {
     "data": {
      "text/plain": [
       "(83431, 14)"
      ]
     },
     "execution_count": 7,
     "metadata": {},
     "output_type": "execute_result"
    }
   ],
   "source": [
    "df_clean.shape\n",
    "\n",
    "# O que tinha nas 20 mil linhas que foram dropadas?"
   ]
  },
  {
   "cell_type": "code",
   "execution_count": null,
   "metadata": {},
   "outputs": [],
   "source": []
  },
  {
   "cell_type": "code",
   "execution_count": null,
   "metadata": {},
   "outputs": [],
   "source": []
  },
  {
   "cell_type": "markdown",
   "metadata": {},
   "source": [
    "### EXEMPLO DO PROBLEMA QUE É DROPAR AS LINHAS QUE TEM NaN"
   ]
  },
  {
   "cell_type": "code",
   "execution_count": 8,
   "metadata": {
    "scrolled": true
   },
   "outputs": [
    {
     "data": {
      "text/html": [
       "<div>\n",
       "<style scoped>\n",
       "    .dataframe tbody tr th:only-of-type {\n",
       "        vertical-align: middle;\n",
       "    }\n",
       "\n",
       "    .dataframe tbody tr th {\n",
       "        vertical-align: top;\n",
       "    }\n",
       "\n",
       "    .dataframe thead th {\n",
       "        text-align: right;\n",
       "    }\n",
       "</style>\n",
       "<table border=\"1\" class=\"dataframe\">\n",
       "  <thead>\n",
       "    <tr style=\"text-align: right;\">\n",
       "      <th></th>\n",
       "      <th>Descrição</th>\n",
       "      <th>Setor</th>\n",
       "      <th>Valor Gasto</th>\n",
       "    </tr>\n",
       "  </thead>\n",
       "  <tbody>\n",
       "    <tr>\n",
       "      <th>0</th>\n",
       "      <td>Serviços</td>\n",
       "      <td>NaN</td>\n",
       "      <td>1000</td>\n",
       "    </tr>\n",
       "    <tr>\n",
       "      <th>1</th>\n",
       "      <td>Reformas</td>\n",
       "      <td>NaN</td>\n",
       "      <td>2000</td>\n",
       "    </tr>\n",
       "    <tr>\n",
       "      <th>2</th>\n",
       "      <td>Gasolina</td>\n",
       "      <td>Transporte</td>\n",
       "      <td>3000</td>\n",
       "    </tr>\n",
       "  </tbody>\n",
       "</table>\n",
       "</div>"
      ],
      "text/plain": [
       "  Descrição       Setor  Valor Gasto\n",
       "0  Serviços         NaN         1000\n",
       "1  Reformas         NaN         2000\n",
       "2  Gasolina  Transporte         3000"
      ]
     },
     "execution_count": 8,
     "metadata": {},
     "output_type": "execute_result"
    }
   ],
   "source": [
    "# Exemplo\n",
    "\n",
    "exemplo = pd.DataFrame({\"Descrição\": ['Serviços', 'Reformas', 'Gasolina'],\n",
    "\"Setor\": [np.nan, np.nan, 'Transporte'], \"Valor Gasto\": [1000, 2000, 3000]})\n",
    "exemplo"
   ]
  },
  {
   "cell_type": "code",
   "execution_count": 9,
   "metadata": {
    "scrolled": true
   },
   "outputs": [
    {
     "data": {
      "text/html": [
       "<div>\n",
       "<style scoped>\n",
       "    .dataframe tbody tr th:only-of-type {\n",
       "        vertical-align: middle;\n",
       "    }\n",
       "\n",
       "    .dataframe tbody tr th {\n",
       "        vertical-align: top;\n",
       "    }\n",
       "\n",
       "    .dataframe thead th {\n",
       "        text-align: right;\n",
       "    }\n",
       "</style>\n",
       "<table border=\"1\" class=\"dataframe\">\n",
       "  <thead>\n",
       "    <tr style=\"text-align: right;\">\n",
       "      <th></th>\n",
       "      <th>Descrição</th>\n",
       "      <th>Setor</th>\n",
       "      <th>Valor Gasto</th>\n",
       "    </tr>\n",
       "  </thead>\n",
       "  <tbody>\n",
       "    <tr>\n",
       "      <th>2</th>\n",
       "      <td>Gasolina</td>\n",
       "      <td>Transporte</td>\n",
       "      <td>3000</td>\n",
       "    </tr>\n",
       "  </tbody>\n",
       "</table>\n",
       "</div>"
      ],
      "text/plain": [
       "  Descrição       Setor  Valor Gasto\n",
       "2  Gasolina  Transporte         3000"
      ]
     },
     "execution_count": 9,
     "metadata": {},
     "output_type": "execute_result"
    }
   ],
   "source": [
    "# Se eu dropar as linhas que tiver NaN perco 2 linhas com valor de gastos importantes\n",
    "\n",
    "exemplo = exemplo.dropna()\n",
    "exemplo"
   ]
  },
  {
   "cell_type": "markdown",
   "metadata": {},
   "source": [
    "### Fim do Exemplo"
   ]
  },
  {
   "cell_type": "code",
   "execution_count": null,
   "metadata": {},
   "outputs": [],
   "source": []
  },
  {
   "cell_type": "code",
   "execution_count": null,
   "metadata": {},
   "outputs": [],
   "source": []
  },
  {
   "cell_type": "code",
   "execution_count": 10,
   "metadata": {},
   "outputs": [
    {
     "name": "stderr",
     "output_type": "stream",
     "text": [
      "/usr/local/lib/python2.7/dist-packages/ipykernel_launcher.py:4: SettingWithCopyWarning: \n",
      "A value is trying to be set on a copy of a slice from a DataFrame.\n",
      "Try using .loc[row_indexer,col_indexer] = value instead\n",
      "\n",
      "See the caveats in the documentation: http://pandas.pydata.org/pandas-docs/stable/indexing.html#indexing-view-versus-copy\n",
      "  after removing the cwd from sys.path.\n",
      "/usr/local/lib/python2.7/dist-packages/ipykernel_launcher.py:7: SettingWithCopyWarning: \n",
      "A value is trying to be set on a copy of a slice from a DataFrame.\n",
      "Try using .loc[row_indexer,col_indexer] = value instead\n",
      "\n",
      "See the caveats in the documentation: http://pandas.pydata.org/pandas-docs/stable/indexing.html#indexing-view-versus-copy\n",
      "  import sys\n"
     ]
    }
   ],
   "source": [
    "# Como tratar esse erro?\n",
    "\n",
    "# Convertendo uma string para inteiro\n",
    "df_clean['Mês Emissão'] = df_clean['Mês Emissão'].astype(int)\n",
    "\n",
    "# Convertendo uma string para float\n",
    "df_clean['Pago'] = df_clean['Pago'].astype(float)"
   ]
  },
  {
   "cell_type": "code",
   "execution_count": 11,
   "metadata": {},
   "outputs": [
    {
     "data": {
      "text/plain": [
       "11    20188\n",
       "5      7819\n",
       "4      6825\n",
       "2      6736\n",
       "3      6582\n",
       "7      6548\n",
       "9      5871\n",
       "8      5609\n",
       "10     5510\n",
       "12     4569\n",
       "6      4316\n",
       "1      2858\n",
       "Name: Mês Emissão, dtype: int64"
      ]
     },
     "execution_count": 11,
     "metadata": {},
     "output_type": "execute_result"
    }
   ],
   "source": [
    "# Quantidade de lançamentos de gastos de cada mês\n",
    "df_clean['Mês Emissão'].value_counts()"
   ]
  },
  {
   "cell_type": "code",
   "execution_count": 12,
   "metadata": {},
   "outputs": [],
   "source": [
    "# Agrupando e somando as linhas com descrição iguais\n",
    "table_gastos = df_clean.groupby('Nome Natureza Detalhada')['Pago'].sum()\n",
    "\n",
    "# Configurando modo de exibição de floats\n",
    "pd.options.display.float_format = '${:,.2f}'.format"
   ]
  },
  {
   "cell_type": "code",
   "execution_count": 13,
   "metadata": {},
   "outputs": [
    {
     "data": {
      "text/html": [
       "<div>\n",
       "<style scoped>\n",
       "    .dataframe tbody tr th:only-of-type {\n",
       "        vertical-align: middle;\n",
       "    }\n",
       "\n",
       "    .dataframe tbody tr th {\n",
       "        vertical-align: top;\n",
       "    }\n",
       "\n",
       "    .dataframe thead th {\n",
       "        text-align: right;\n",
       "    }\n",
       "</style>\n",
       "<table border=\"1\" class=\"dataframe\">\n",
       "  <thead>\n",
       "    <tr style=\"text-align: right;\">\n",
       "      <th></th>\n",
       "      <th>Nome Natureza Detalhada</th>\n",
       "      <th>Pago</th>\n",
       "    </tr>\n",
       "  </thead>\n",
       "  <tbody>\n",
       "    <tr>\n",
       "      <th>0</th>\n",
       "      <td>13 SALARIO</td>\n",
       "      <td>$62,074,505.06</td>\n",
       "    </tr>\n",
       "    <tr>\n",
       "      <th>1</th>\n",
       "      <td>13 SALARIO  PENSOES CIVIS</td>\n",
       "      <td>$4,598,805.52</td>\n",
       "    </tr>\n",
       "    <tr>\n",
       "      <th>2</th>\n",
       "      <td>13 SALARIO  PESSOAL CIVIL</td>\n",
       "      <td>$26,220,733.49</td>\n",
       "    </tr>\n",
       "    <tr>\n",
       "      <th>3</th>\n",
       "      <td>ABONO DE PERMANENCIA</td>\n",
       "      <td>$9,066,114.39</td>\n",
       "    </tr>\n",
       "    <tr>\n",
       "      <th>4</th>\n",
       "      <td>ADICIONAL DE INSALUBRIDADE</td>\n",
       "      <td>$7,878,905.06</td>\n",
       "    </tr>\n",
       "  </tbody>\n",
       "</table>\n",
       "</div>"
      ],
      "text/plain": [
       "      Nome Natureza Detalhada           Pago\n",
       "0                  13 SALARIO $62,074,505.06\n",
       "1   13 SALARIO  PENSOES CIVIS  $4,598,805.52\n",
       "2   13 SALARIO  PESSOAL CIVIL $26,220,733.49\n",
       "3        ABONO DE PERMANENCIA  $9,066,114.39\n",
       "4  ADICIONAL DE INSALUBRIDADE  $7,878,905.06"
      ]
     },
     "execution_count": 13,
     "metadata": {},
     "output_type": "execute_result"
    }
   ],
   "source": [
    "# Convertendo Series para Dataframe\n",
    "df_gastos = pd.DataFrame(table_gastos).reset_index()\n",
    "\n",
    "# Ordenando em ordem alfabética para facilitar visualização de descrições que podem ser agrupadas\n",
    "df_gastos = df_gastos.sort_values(by='Nome Natureza Detalhada')\n",
    "\n",
    "\n",
    "df_gastos.head()\n",
    "# Repare que algumas linhas da natureza detalhada possuem descrições diferêntes,\n",
    "# porém deveriam está agrupadas juntas (ex.: 13 sal)"
   ]
  },
  {
   "cell_type": "code",
   "execution_count": 14,
   "metadata": {},
   "outputs": [
    {
     "data": {
      "text/html": [
       "<div>\n",
       "<style scoped>\n",
       "    .dataframe tbody tr th:only-of-type {\n",
       "        vertical-align: middle;\n",
       "    }\n",
       "\n",
       "    .dataframe tbody tr th {\n",
       "        vertical-align: top;\n",
       "    }\n",
       "\n",
       "    .dataframe thead th {\n",
       "        text-align: right;\n",
       "    }\n",
       "</style>\n",
       "<table border=\"1\" class=\"dataframe\">\n",
       "  <thead>\n",
       "    <tr style=\"text-align: right;\">\n",
       "      <th></th>\n",
       "      <th>Nome Natureza Detalhada</th>\n",
       "      <th>Pago</th>\n",
       "    </tr>\n",
       "  </thead>\n",
       "  <tbody>\n",
       "    <tr>\n",
       "      <th>0</th>\n",
       "      <td>13 SALARIO</td>\n",
       "      <td>$62,074,505.06</td>\n",
       "    </tr>\n",
       "    <tr>\n",
       "      <th>1</th>\n",
       "      <td>13 SALARIO</td>\n",
       "      <td>$4,598,805.52</td>\n",
       "    </tr>\n",
       "    <tr>\n",
       "      <th>2</th>\n",
       "      <td>13 SALARIO</td>\n",
       "      <td>$26,220,733.49</td>\n",
       "    </tr>\n",
       "    <tr>\n",
       "      <th>3</th>\n",
       "      <td>ABONO DE PERMANENCIA</td>\n",
       "      <td>$9,066,114.39</td>\n",
       "    </tr>\n",
       "    <tr>\n",
       "      <th>4</th>\n",
       "      <td>ADICIONAL DE INSALUBRIDADE</td>\n",
       "      <td>$7,878,905.06</td>\n",
       "    </tr>\n",
       "  </tbody>\n",
       "</table>\n",
       "</div>"
      ],
      "text/plain": [
       "      Nome Natureza Detalhada           Pago\n",
       "0                  13 SALARIO $62,074,505.06\n",
       "1                  13 SALARIO  $4,598,805.52\n",
       "2                  13 SALARIO $26,220,733.49\n",
       "3        ABONO DE PERMANENCIA  $9,066,114.39\n",
       "4  ADICIONAL DE INSALUBRIDADE  $7,878,905.06"
      ]
     },
     "execution_count": 14,
     "metadata": {},
     "output_type": "execute_result"
    }
   ],
   "source": [
    "# Criando uma Series com a coluna \"Nome Natureza Detalhada\"\n",
    "names = df_gastos['Nome Natureza Detalhada']\n",
    "\n",
    "# Função para achar prefixo em comum das frases e substituir na original\n",
    "# ex.: 13 salario pessoal civil -> 13 salario\n",
    "def find_prefix(x):\n",
    "    for name in names:\n",
    "        if len(name) >= len(x):\n",
    "            continue\n",
    "        if name == x[:len(name)]:\n",
    "            return name\n",
    "    return x\n",
    "\n",
    "# Aplicando a função find_prefix para todos elementos da coluna\n",
    "df_gastos['Nome Natureza Detalhada'] = df_gastos['Nome Natureza Detalhada'].apply(find_prefix)\n",
    "\n",
    "# Resultado\n",
    "df_gastos.head()"
   ]
  },
  {
   "cell_type": "code",
   "execution_count": 15,
   "metadata": {},
   "outputs": [
    {
     "data": {
      "text/html": [
       "<div>\n",
       "<style scoped>\n",
       "    .dataframe tbody tr th:only-of-type {\n",
       "        vertical-align: middle;\n",
       "    }\n",
       "\n",
       "    .dataframe tbody tr th {\n",
       "        vertical-align: top;\n",
       "    }\n",
       "\n",
       "    .dataframe thead th {\n",
       "        text-align: right;\n",
       "    }\n",
       "</style>\n",
       "<table border=\"1\" class=\"dataframe\">\n",
       "  <thead>\n",
       "    <tr style=\"text-align: right;\">\n",
       "      <th></th>\n",
       "      <th>Nome Natureza Detalhada</th>\n",
       "      <th>Pago</th>\n",
       "    </tr>\n",
       "  </thead>\n",
       "  <tbody>\n",
       "    <tr>\n",
       "      <th>0</th>\n",
       "      <td>13 SALARIO</td>\n",
       "      <td>$62,074,505.06</td>\n",
       "    </tr>\n",
       "    <tr>\n",
       "      <th>1</th>\n",
       "      <td>13 SALARIO</td>\n",
       "      <td>$4,598,805.52</td>\n",
       "    </tr>\n",
       "    <tr>\n",
       "      <th>2</th>\n",
       "      <td>13 SALARIO</td>\n",
       "      <td>$26,220,733.49</td>\n",
       "    </tr>\n",
       "    <tr>\n",
       "      <th>3</th>\n",
       "      <td>ABONO DE PERMANENCIA</td>\n",
       "      <td>$9,066,114.39</td>\n",
       "    </tr>\n",
       "    <tr>\n",
       "      <th>4</th>\n",
       "      <td>ADICIONAL DE INSALUBRIDADE</td>\n",
       "      <td>$7,878,905.06</td>\n",
       "    </tr>\n",
       "  </tbody>\n",
       "</table>\n",
       "</div>"
      ],
      "text/plain": [
       "      Nome Natureza Detalhada           Pago\n",
       "0                  13 SALARIO $62,074,505.06\n",
       "1                  13 SALARIO  $4,598,805.52\n",
       "2                  13 SALARIO $26,220,733.49\n",
       "3        ABONO DE PERMANENCIA  $9,066,114.39\n",
       "4  ADICIONAL DE INSALUBRIDADE  $7,878,905.06"
      ]
     },
     "execution_count": 15,
     "metadata": {},
     "output_type": "execute_result"
    }
   ],
   "source": [
    "# Esta função aplica o conceito da Distância Levenshtein em todos os elementos\n",
    "# e muda a descrição cuja a Distância Levenshtein seja menor ou igual a 3\n",
    "from nltk.metrics import edit_distance\n",
    "names = df_gastos['Nome Natureza Detalhada']\n",
    "\n",
    "def find_similar(x):\n",
    "    for name in names:\n",
    "        # Esta função manipula as duas string do parâmetro e calcula a quantidade de operações para\n",
    "        # transformar name em x\n",
    "        if edit_distance(name, x) <= 3:\n",
    "            return name\n",
    "    return x\n",
    "\n",
    "df_gastos['Nome Natureza Detalhada'] = df_gastos['Nome Natureza Detalhada'].apply(find_similar)\n",
    "df_gastos.head()"
   ]
  },
  {
   "cell_type": "raw",
   "metadata": {},
   "source": [
    "###Conceito da Distância Levenshtein: Quantidade de operações necessárias para transformar uma string em outra\n",
    "\n",
    "ex.: Quantas operações é necessárias para transformar oi em eae\n",
    "\n",
    "--> oi         --> ei                   --> ea -->                 eae\n",
    "//  ^ original     ^ mudar 'o' por 'e'       ^ mudar 'i' por 'a'     ^ adicionar o 'e'\n",
    "//                 1ª operação                  2ª operação            3ª operação\n",
    "\n",
    "Logo a descrição 'oi' irá ser trocada por 'eae' e serão agrupadas na mesma categoria"
   ]
  },
  {
   "cell_type": "code",
   "execution_count": 16,
   "metadata": {},
   "outputs": [
    {
     "data": {
      "text/plain": [
       "Nome Natureza Detalhada\n",
       "13 SALARIO                                       $92,894,044.07\n",
       "ABONO DE PERMANENCIA                              $9,066,114.39\n",
       "ADICIONAL DE INSALUBRIDADE                        $7,899,442.01\n",
       "ADICIONAL DE PERICULOSIDADE                         $769,682.33\n",
       "ADICIONAL NOTURNO                                   $979,674.77\n",
       "ADICIONAL POR PLANTAO HOSPITALAR                  $2,051,024.21\n",
       "ADICIONAL POR TEMPO DE SERVICO PESSOAL CIVIL     $14,524,620.76\n",
       "AJUDA DE CUSTO  PESSOAL CIVIL                       $112,979.21\n",
       "ALIMENTOS PARA ANIMAIS                              $192,613.49\n",
       "ANIMAIS PARA PESQUISA E ABATE                         $8,770.00\n",
       "APAR EQUIP UTENS MED O DONT LABOR HOSPIT          $1,931,637.23\n",
       "APARELHOS DE MEDICAO E ORIENTACAO                    $41,932.48\n",
       "APARELHOS E EQUIPAMENTOS DE COMUNICACAO             $153,569.15\n",
       "APARELHOS E UTENSILIOS DOMESTICOS                    $56,764.53\n",
       "APOIO ADMINISTRATIVO  TECNICO E OPERACIONAL      $35,841,574.73\n",
       "APOSENT ORIGINARIA DE SUBSIDIOS  PESSOAL CIV      $1,661,701.15\n",
       "APOSENTADORIAS  RESERVA REMUNERADA E REFORMAS       $903,041.01\n",
       "AQUISICAO DE SOFTWARE                               $290,721.33\n",
       "ARMAZENAGEM                                         $101,805.75\n",
       "ASSESSORIA E CONSULTORI TECNICA OU JURIDICA             $685.16\n",
       "ASSINATURAS DE PERIODICOS E ANUIDADES               $444,428.88\n",
       "AUXILIO A PESQUISADORES                          $25,259,956.14\n",
       "AUXILIO AAS ATIVIDADES AUXILIARES DE PESQUI          $44,250.00\n",
       "AUXILIO ALIMENTACAO                              $33,567,054.23\n",
       "AUXILIO BOLSA A PESQUISADORES                        $74,000.00\n",
       "AUXILIO CRECHE                                    $4,013,765.98\n",
       "AUXILIO FINANCEIRO A ESTUDANTES                      $30,000.00\n",
       "AUXILIO FINANCEIRO A PESQUISADORES                   $64,000.00\n",
       "AUXILIO FUNERAL ATIVO CIVI                          $256,845.98\n",
       "AUXILIO NATALIDADE ATIVO CIVIL                       $84,880.48\n",
       "                                                      ...      \n",
       "SERVICO DE SELECAO E TREINAMENTO                  $5,336,563.77\n",
       "SERVICOS BANCARIOS                                  $108,312.21\n",
       "SERVICOS DE AGUA E ESGOTO                         $9,481,020.54\n",
       "SERVICOS DE ANALISES E PESQUISAS CIENTIFICAS     $11,302,344.29\n",
       "SERVICOS DE APOIO AO ENSINO                       $9,557,474.00\n",
       "SERVICOS DE AUDIO  VIDEO E FOTO                      $26,385.00\n",
       "SERVICOS DE COMUNICACA EM GERAL                     $176,124.60\n",
       "SERVICOS DE COPA E COZINHA                          $102,043.95\n",
       "SERVICOS DE COPIAS E REPRODUCAO DE DOCUMENTOS       $739,208.40\n",
       "SERVICOS DE ENERGIA ELETRICA                         $41,915.16\n",
       "SERVICOS DE PRODUCAO INDUSTRIAL                      $64,561.43\n",
       "SERVICOS DE PUBLICIDADE DE UTILIDADE PUBLICA          $6,942.70\n",
       "SERVICOS DE PUBLICIDADE INSTITUCIONAL               $198,848.41\n",
       "SERVICOS DE PUBLICIDADE LEGAL                           $103.02\n",
       "SERVICOS DE SOCORRO E SALVAMENTO                      $5,307.84\n",
       "SERVICOS DE TECNOLOGIA DA INFORMACAO                $168,676.09\n",
       "SERVICOS DE TELECOMUNICACOES                        $715,373.15\n",
       "SERVICOS EXTRAORDINARIO                              $42,774.22\n",
       "SERVICOS GRAFICOS E EDITORIAIS                    $1,670,033.96\n",
       "SERVICOS JUDICIARIOS                                    $157.52\n",
       "SERVICOS TECNICOS PROFISSIONAIS                   $6,942,706.07\n",
       "SUPORTE DE INFRAESTRUTURA DE TI                   $3,224,709.17\n",
       "TAXAS                                                $24,826.04\n",
       "UNIFORMES TECIDOS E AVIAMENTOS                       $14,994.30\n",
       "VANTAGENS PERM SENT JUD TRANS JU LGADO  CIVIL       $323,390.40\n",
       "VANTAGENS PERMANENTE SENT TRANSIT JULG CIVIL        $287,744.28\n",
       "VEICULOS DIVERSOS                                     $5,111.50\n",
       "VENCIMENTOS E SALARIOS                          $175,262,359.61\n",
       "VENCIMENTOS E VANTAGEN FIXAS  PESSOAL CIVIL       $3,637,930.58\n",
       "VIGILANCIA OSTENSIVA                             $19,201,399.70\n",
       "Name: Pago, Length: 195, dtype: float64"
      ]
     },
     "execution_count": 16,
     "metadata": {},
     "output_type": "execute_result"
    }
   ],
   "source": [
    "# Agrupando e somando as linhas com descrição iguais\n",
    "df_gastos = df_gastos.reset_index()\n",
    "df_gastos = df_gastos.groupby('Nome Natureza Detalhada')['Pago'].sum()\n",
    "df_gastos"
   ]
  },
  {
   "cell_type": "code",
   "execution_count": 17,
   "metadata": {},
   "outputs": [],
   "source": [
    "# Salvando o resultado em um csv\n",
    "df_gastos.to_csv('../csv/parsed/Natureza_Detalhada_X_Pago.csv')"
   ]
  }
 ],
 "metadata": {
  "kernelspec": {
   "display_name": "Python 3",
   "language": "python",
   "name": "python3"
  },
  "language_info": {
   "codemirror_mode": {
    "name": "ipython",
    "version": 3
   },
   "file_extension": ".py",
   "mimetype": "text/x-python",
   "name": "python",
   "nbconvert_exporter": "python",
   "pygments_lexer": "ipython3",
   "version": "3.7.1"
  }
 },
 "nbformat": 4,
 "nbformat_minor": 2
}
