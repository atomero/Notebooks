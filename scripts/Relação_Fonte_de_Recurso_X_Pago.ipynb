{
 "cells": [
  {
   "cell_type": "markdown",
   "metadata": {},
   "source": [
    "### Bibliotecas usadas"
   ]
  },
  {
   "cell_type": "code",
   "execution_count": 32,
   "metadata": {},
   "outputs": [
    {
     "name": "stdout",
     "output_type": "stream",
     "text": [
      "Populating the interactive namespace from numpy and matplotlib\n"
     ]
    }
   ],
   "source": [
    "%pylab inline\n",
    "import glob\n",
    "import pandas as pd\n",
    "import math\n",
    "import dateutil"
   ]
  },
  {
   "cell_type": "markdown",
   "metadata": {},
   "source": [
    "### Criação de um DataFrame com as informações dos CSV"
   ]
  },
  {
   "cell_type": "code",
   "execution_count": 38,
   "metadata": {},
   "outputs": [
    {
     "data": {
      "text/html": [
       "<div>\n",
       "<style scoped>\n",
       "    .dataframe tbody tr th:only-of-type {\n",
       "        vertical-align: middle;\n",
       "    }\n",
       "\n",
       "    .dataframe tbody tr th {\n",
       "        vertical-align: top;\n",
       "    }\n",
       "\n",
       "    .dataframe thead th {\n",
       "        text-align: right;\n",
       "    }\n",
       "</style>\n",
       "<table border=\"1\" class=\"dataframe\">\n",
       "  <thead>\n",
       "    <tr style=\"text-align: right;\">\n",
       "      <th></th>\n",
       "      <th>Data Emissão</th>\n",
       "      <th>OB Origem</th>\n",
       "      <th>NE Origem</th>\n",
       "      <th>No Processo</th>\n",
       "      <th>Credor</th>\n",
       "      <th>Nome Credor</th>\n",
       "      <th>Finalidade</th>\n",
       "      <th>Fonte de Recurso</th>\n",
       "      <th>Natureza Detalhada</th>\n",
       "      <th>Nome Natureza Detalhada</th>\n",
       "      <th>UG Executora</th>\n",
       "      <th>Nome UG Executora</th>\n",
       "      <th>Mês Emissão</th>\n",
       "      <th>Pago</th>\n",
       "    </tr>\n",
       "  </thead>\n",
       "  <tbody>\n",
       "    <tr>\n",
       "      <th>0</th>\n",
       "      <td>02/10/2017</td>\n",
       "      <td>2017OB800355</td>\n",
       "      <td>2017NE800036</td>\n",
       "      <td>23106025764/2014-57</td>\n",
       "      <td>00.606.194/0001-73</td>\n",
       "      <td>KOZCOE ENGENHARIA LTDA</td>\n",
       "      <td>PAGAMENTO NOTA FISCAL NF.003.327 - KOZCOE ENGE...</td>\n",
       "      <td>0250154079</td>\n",
       "      <td>3390.39.10</td>\n",
       "      <td>LOCACAO DE IMOVEIS</td>\n",
       "      <td>154079</td>\n",
       "      <td>CENTRO DE SEL.E DE\\r\\nPROMOCAO DE EVENTOS</td>\n",
       "      <td>10</td>\n",
       "      <td>39.667,80</td>\n",
       "    </tr>\n",
       "    <tr>\n",
       "      <th>1</th>\n",
       "      <td>02/10/2017</td>\n",
       "      <td>2017OB806258</td>\n",
       "      <td>2017NE000016</td>\n",
       "      <td>23106118433/2017-94</td>\n",
       "      <td>790.113.491-72</td>\n",
       "      <td>REGINA THELMA MEDEIROS\\r\\nMESQUITA DE ANDRADE</td>\n",
       "      <td>PAGAMENTO DA FOLHA- 09/2017-702 // AUXILIO A\\r...</td>\n",
       "      <td>0250022135</td>\n",
       "      <td>3390.20.01</td>\n",
       "      <td>AUXILIO A PESQUISADORES</td>\n",
       "      <td>154019</td>\n",
       "      <td>CENTRO DE APOIO AO\\r\\nDESENVOLV. TECNOLOGICO\\r...</td>\n",
       "      <td>10</td>\n",
       "      <td>1.810,00</td>\n",
       "    </tr>\n",
       "    <tr>\n",
       "      <th>2</th>\n",
       "      <td>02/10/2017</td>\n",
       "      <td>2017OB806259</td>\n",
       "      <td>2017NE000015</td>\n",
       "      <td>23106.118156/2017-10</td>\n",
       "      <td>376.777.641-34</td>\n",
       "      <td>ALESSANDRO DELON\\r\\nCAMARGO MESQUITA</td>\n",
       "      <td>PAGAMENTO DA FOLHA- 09/2017-715 // AUXILIO A\\r...</td>\n",
       "      <td>0250022135</td>\n",
       "      <td>3390.20.01</td>\n",
       "      <td>AUXILIO A PESQUISADORES</td>\n",
       "      <td>154019</td>\n",
       "      <td>CENTRO DE APOIO AO\\r\\nDESENVOLV. TECNOLOGICO\\r...</td>\n",
       "      <td>10</td>\n",
       "      <td>3.500,00</td>\n",
       "    </tr>\n",
       "    <tr>\n",
       "      <th>3</th>\n",
       "      <td>02/10/2017</td>\n",
       "      <td>2017OB806260</td>\n",
       "      <td>2017NE000015</td>\n",
       "      <td>23106.111709/2017-11</td>\n",
       "      <td>047.828.736-46</td>\n",
       "      <td>BRENO GIOVANNI ADAID\\r\\nCASTRO</td>\n",
       "      <td>PAGAMENTO DA FOLHA- 09/2017-692 // AUXILIO A\\r...</td>\n",
       "      <td>0250022135</td>\n",
       "      <td>3390.20.01</td>\n",
       "      <td>AUXILIO A PESQUISADORES</td>\n",
       "      <td>154019</td>\n",
       "      <td>CENTRO DE APOIO AO\\r\\nDESENVOLV. TECNOLOGICO\\r...</td>\n",
       "      <td>10</td>\n",
       "      <td>4.200,00</td>\n",
       "    </tr>\n",
       "    <tr>\n",
       "      <th>4</th>\n",
       "      <td>02/10/2017</td>\n",
       "      <td>2017OB806261</td>\n",
       "      <td>2017NE000015</td>\n",
       "      <td>23106.111714/2017-16</td>\n",
       "      <td>863.689.901-04</td>\n",
       "      <td>FABIO JACINTO BARRETO\\r\\nDE SOUZA</td>\n",
       "      <td>PAGAMENTO DA FOLHA- 09/2017-693 // AUXILIO A\\r...</td>\n",
       "      <td>0250022135</td>\n",
       "      <td>3390.20.01</td>\n",
       "      <td>AUXILIO A PESQUISADORES</td>\n",
       "      <td>154019</td>\n",
       "      <td>CENTRO DE APOIO AO\\r\\nDESENVOLV. TECNOLOGICO\\r...</td>\n",
       "      <td>10</td>\n",
       "      <td>5.500,00</td>\n",
       "    </tr>\n",
       "  </tbody>\n",
       "</table>\n",
       "</div>"
      ],
      "text/plain": [
       "  Data Emissão     OB Origem     NE Origem           No Processo  \\\n",
       "0   02/10/2017  2017OB800355  2017NE800036   23106025764/2014-57   \n",
       "1   02/10/2017  2017OB806258  2017NE000016   23106118433/2017-94   \n",
       "2   02/10/2017  2017OB806259  2017NE000015  23106.118156/2017-10   \n",
       "3   02/10/2017  2017OB806260  2017NE000015  23106.111709/2017-11   \n",
       "4   02/10/2017  2017OB806261  2017NE000015  23106.111714/2017-16   \n",
       "\n",
       "               Credor                                    Nome Credor  \\\n",
       "0  00.606.194/0001-73                         KOZCOE ENGENHARIA LTDA   \n",
       "1      790.113.491-72  REGINA THELMA MEDEIROS\\r\\nMESQUITA DE ANDRADE   \n",
       "2      376.777.641-34           ALESSANDRO DELON\\r\\nCAMARGO MESQUITA   \n",
       "3      047.828.736-46                 BRENO GIOVANNI ADAID\\r\\nCASTRO   \n",
       "4      863.689.901-04              FABIO JACINTO BARRETO\\r\\nDE SOUZA   \n",
       "\n",
       "                                          Finalidade Fonte de Recurso  \\\n",
       "0  PAGAMENTO NOTA FISCAL NF.003.327 - KOZCOE ENGE...       0250154079   \n",
       "1  PAGAMENTO DA FOLHA- 09/2017-702 // AUXILIO A\\r...       0250022135   \n",
       "2  PAGAMENTO DA FOLHA- 09/2017-715 // AUXILIO A\\r...       0250022135   \n",
       "3  PAGAMENTO DA FOLHA- 09/2017-692 // AUXILIO A\\r...       0250022135   \n",
       "4  PAGAMENTO DA FOLHA- 09/2017-693 // AUXILIO A\\r...       0250022135   \n",
       "\n",
       "  Natureza Detalhada  Nome Natureza Detalhada UG Executora  \\\n",
       "0         3390.39.10       LOCACAO DE IMOVEIS       154079   \n",
       "1         3390.20.01  AUXILIO A PESQUISADORES       154019   \n",
       "2         3390.20.01  AUXILIO A PESQUISADORES       154019   \n",
       "3         3390.20.01  AUXILIO A PESQUISADORES       154019   \n",
       "4         3390.20.01  AUXILIO A PESQUISADORES       154019   \n",
       "\n",
       "                                   Nome UG Executora Mês Emissão       Pago  \n",
       "0          CENTRO DE SEL.E DE\\r\\nPROMOCAO DE EVENTOS          10  39.667,80  \n",
       "1  CENTRO DE APOIO AO\\r\\nDESENVOLV. TECNOLOGICO\\r...          10   1.810,00  \n",
       "2  CENTRO DE APOIO AO\\r\\nDESENVOLV. TECNOLOGICO\\r...          10   3.500,00  \n",
       "3  CENTRO DE APOIO AO\\r\\nDESENVOLV. TECNOLOGICO\\r...          10   4.200,00  \n",
       "4  CENTRO DE APOIO AO\\r\\nDESENVOLV. TECNOLOGICO\\r...          10   5.500,00  "
      ]
     },
     "execution_count": 38,
     "metadata": {},
     "output_type": "execute_result"
    }
   ],
   "source": [
    "path = '../csv/original/'\n",
    "filenames = glob.glob(path + \"/*.csv\")\n",
    "\n",
    "list_ = []\n",
    "frame = pd.DataFrame()\n",
    "\n",
    "# Para cada um dos csv\n",
    "for filename in filenames:\n",
    "    # Leia o CSV\n",
    "    df = pd.read_csv(filename, index_col = False)\n",
    "    # Coloque na lista de CSV\n",
    "    list_.append(df)\n",
    "\n",
    "frame = pd.concat(list_)\n",
    "\n",
    "# Dataframe\n",
    "df_clean = frame\n",
    "\n",
    "df_clean.head()"
   ]
  },
  {
   "cell_type": "markdown",
   "metadata": {},
   "source": [
    "### Limpar a coluna Fonte de Recursos (remover tudo que não for numero)"
   ]
  },
  {
   "cell_type": "code",
   "execution_count": 39,
   "metadata": {},
   "outputs": [
    {
     "data": {
      "text/plain": [
       "0    0250154079\n",
       "1    0250022135\n",
       "2    0250022135\n",
       "3    0250022135\n",
       "4    0250022135\n",
       "Name: Fonte de Recurso, dtype: object"
      ]
     },
     "execution_count": 39,
     "metadata": {},
     "output_type": "execute_result"
    }
   ],
   "source": [
    "# Remover todos os caracteres e deixar somente os numeros\n",
    "def remove_chars(element):\n",
    "    return \"\".join(i for i in element if i.isdigit())\n",
    "\n",
    "df_clean['Fonte de Recurso'] = df_clean['Fonte de Recurso'].astype(str)\n",
    "df_clean['Fonte de Recurso'] = df_clean['Fonte de Recurso'].apply(remove_chars)\n",
    "\n",
    "df_clean['Fonte de Recurso'].head()"
   ]
  },
  {
   "cell_type": "markdown",
   "metadata": {},
   "source": [
    "### Limpar a coluna Pago (Remover tudo que não for numero ou ,)"
   ]
  },
  {
   "cell_type": "code",
   "execution_count": 40,
   "metadata": {},
   "outputs": [
    {
     "data": {
      "text/plain": [
       "0    39667.80\n",
       "1     1810.00\n",
       "2     3500.00\n",
       "3     4200.00\n",
       "4     5500.00\n",
       "Name: Pago, dtype: object"
      ]
     },
     "execution_count": 40,
     "metadata": {},
     "output_type": "execute_result"
    }
   ],
   "source": [
    "def still_numbers_and_commas(element):\n",
    "    return \"\".join(i for i in element if i.isdigit() or i == ',')\n",
    "\n",
    "df_clean['Pago'] = df_clean['Pago'].astype(str)\n",
    "\n",
    "df_clean['Pago'] = df_clean['Pago'].apply(still_numbers_and_commas)\n",
    "\n",
    "df_clean['Pago'] = df_clean['Pago'].str.replace(',','.')\n",
    "\n",
    "df_clean['Pago'].head()"
   ]
  },
  {
   "cell_type": "markdown",
   "metadata": {},
   "source": [
    "### Conversão de Str para Float ** Problema: Não consigo converter!"
   ]
  },
  {
   "cell_type": "code",
   "execution_count": 41,
   "metadata": {},
   "outputs": [
    {
     "data": {
      "text/plain": [
       "0    39667.80\n",
       "1     1810.00\n",
       "2     3500.00\n",
       "3     4200.00\n",
       "4     5500.00\n",
       "Name: Pago, dtype: object"
      ]
     },
     "execution_count": 41,
     "metadata": {},
     "output_type": "execute_result"
    }
   ],
   "source": [
    "# Está ocorrendo varios erros durante a conversão... Não consigo entender o pq\n",
    "df_clean['Pago'] = df_clean['Pago'].astype(float64, errors = 'ignore')\n",
    "\n",
    "df_clean['Pago'].head()"
   ]
  },
  {
   "cell_type": "code",
   "execution_count": null,
   "metadata": {},
   "outputs": [],
   "source": [
    "# Este trecho de codigo mostra que em todas as linhas está ocorrendo este erro\n",
    "# for i in df_clean['Pago']:\n",
    "#     print(i)\n",
    "#     try:\n",
    "#         i = float(i)\n",
    "#     except ValueError, e:\n",
    "#         print \"Error\", e, \" on number\", i"
   ]
  },
  {
   "cell_type": "markdown",
   "metadata": {},
   "source": [
    "### Criando um Panda Series com as informações agrupadas nos códigos da Fonte de Recurso"
   ]
  },
  {
   "cell_type": "raw",
   "metadata": {},
   "source": [
    "#### Problema! -> Invez de agrupar somando os valores em pago, está concatenando todos os valores"
   ]
  },
  {
   "cell_type": "code",
   "execution_count": 53,
   "metadata": {},
   "outputs": [
    {
     "data": {
      "text/plain": [
       "Fonte de Recurso\n",
       "                20.00449.00360.00615.0020.00200.00379.16379.16...\n",
       "00112000000                     28.9020469.73555.9925927.18540.00\n",
       "00250155512                                        3672.601292.77\n",
       "00250262710                                  9472.182687.56500.00\n",
       "006112000000                                              1500.00\n",
       "Name: Pago, dtype: object"
      ]
     },
     "execution_count": 53,
     "metadata": {},
     "output_type": "execute_result"
    }
   ],
   "source": [
    "# Agrupando e somando as linhas com codigos iguais\n",
    "table_gastos = df_clean.groupby('Fonte de Recurso')['Pago'].sum()\n",
    "\n",
    "# Configurando modo de exibição de floats\n",
    "pd.options.display.float_format = '${:,.2f}'.format\n",
    "\n",
    "table_gastos.head()"
   ]
  },
  {
   "cell_type": "markdown",
   "metadata": {},
   "source": [
    "### Convertendo Seires para Dataframe"
   ]
  },
  {
   "cell_type": "code",
   "execution_count": 48,
   "metadata": {},
   "outputs": [
    {
     "data": {
      "text/html": [
       "<div>\n",
       "<style scoped>\n",
       "    .dataframe tbody tr th:only-of-type {\n",
       "        vertical-align: middle;\n",
       "    }\n",
       "\n",
       "    .dataframe tbody tr th {\n",
       "        vertical-align: top;\n",
       "    }\n",
       "\n",
       "    .dataframe thead th {\n",
       "        text-align: right;\n",
       "    }\n",
       "</style>\n",
       "<table border=\"1\" class=\"dataframe\">\n",
       "  <thead>\n",
       "    <tr style=\"text-align: right;\">\n",
       "      <th></th>\n",
       "      <th>Fonte de Recurso</th>\n",
       "      <th>Pago</th>\n",
       "    </tr>\n",
       "  </thead>\n",
       "  <tbody>\n",
       "    <tr>\n",
       "      <th>0</th>\n",
       "      <td></td>\n",
       "      <td>20.00449.00360.00615.0020.00200.00379.16379.16...</td>\n",
       "    </tr>\n",
       "    <tr>\n",
       "      <th>1</th>\n",
       "      <td>00112000000</td>\n",
       "      <td>28.9020469.73555.9925927.18540.00</td>\n",
       "    </tr>\n",
       "    <tr>\n",
       "      <th>2</th>\n",
       "      <td>00250155512</td>\n",
       "      <td>3672.601292.77</td>\n",
       "    </tr>\n",
       "    <tr>\n",
       "      <th>3</th>\n",
       "      <td>00250262710</td>\n",
       "      <td>9472.182687.56500.00</td>\n",
       "    </tr>\n",
       "    <tr>\n",
       "      <th>4</th>\n",
       "      <td>006112000000</td>\n",
       "      <td>1500.00</td>\n",
       "    </tr>\n",
       "  </tbody>\n",
       "</table>\n",
       "</div>"
      ],
      "text/plain": [
       "  Fonte de Recurso                                               Pago\n",
       "0                   20.00449.00360.00615.0020.00200.00379.16379.16...\n",
       "1      00112000000                  28.9020469.73555.9925927.18540.00\n",
       "2      00250155512                                     3672.601292.77\n",
       "3      00250262710                               9472.182687.56500.00\n",
       "4     006112000000                                            1500.00"
      ]
     },
     "execution_count": 48,
     "metadata": {},
     "output_type": "execute_result"
    }
   ],
   "source": [
    "# Convertendo Series para Dataframe\n",
    "df_gastos = pd.DataFrame(table_gastos).reset_index()\n",
    "\n",
    "# Ordenando em ordem alfabética para facilitar visualização de descrições que podem ser agrupadas\n",
    "df_gastos = df_gastos.sort_values(by='Fonte de Recurso')\n",
    "\n",
    "df_gastos.head()"
   ]
  },
  {
   "cell_type": "code",
   "execution_count": 55,
   "metadata": {},
   "outputs": [
    {
     "data": {
      "text/plain": [
       "Fonte de Recurso\n",
       "                20.00449.00360.00615.0020.00200.00379.16379.16...\n",
       "00112000000                     28.9020469.73555.9925927.18540.00\n",
       "00250155512                                        3672.601292.77\n",
       "00250262710                                  9472.182687.56500.00\n",
       "006112000000                                              1500.00\n",
       "Name: Pago, dtype: object"
      ]
     },
     "execution_count": 55,
     "metadata": {},
     "output_type": "execute_result"
    }
   ],
   "source": [
    "# Agrupando e somando as linhas com descrição iguais\n",
    "df_gastos = df_gastos.reset_index()\n",
    "df_gastos = df_gastos.groupby('Fonte de Recurso')['Pago'].sum()\n",
    "df_gastos.head()"
   ]
  },
  {
   "cell_type": "markdown",
   "metadata": {},
   "source": [
    "### Salvando o resultado em um CSV"
   ]
  },
  {
   "cell_type": "code",
   "execution_count": 50,
   "metadata": {},
   "outputs": [],
   "source": [
    "# Salvando o resultado em um csv\n",
    "df_gastos.to_csv('../csv/parsed/Fonte_de_Recurso_X_Pago.csv')"
   ]
  }
 ],
 "metadata": {
  "kernelspec": {
   "display_name": "Python 2",
   "language": "python",
   "name": "python2"
  },
  "language_info": {
   "codemirror_mode": {
    "name": "ipython",
    "version": 2
   },
   "file_extension": ".py",
   "mimetype": "text/x-python",
   "name": "python",
   "nbconvert_exporter": "python",
   "pygments_lexer": "ipython2",
   "version": "2.7.12"
  }
 },
 "nbformat": 4,
 "nbformat_minor": 2
}
