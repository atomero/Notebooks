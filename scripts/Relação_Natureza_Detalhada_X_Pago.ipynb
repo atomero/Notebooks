{
 "cells": [
  {
   "cell_type": "code",
   "execution_count": 1,
   "metadata": {},
   "outputs": [
    {
     "name": "stdout",
     "output_type": "stream",
     "text": [
      "Populating the interactive namespace from numpy and matplotlib\n"
     ]
    }
   ],
   "source": [
    "%pylab inline\n",
    "import glob\n",
    "import pandas as pd\n",
    "import math\n",
    "import dateutil"
   ]
  },
  {
   "cell_type": "code",
   "execution_count": 2,
   "metadata": {},
   "outputs": [
    {
     "data": {
      "text/plain": [
       "Index([u'Data Emissão', u'OB Origem', u'NE Origem', u'No Processo', u'Credor',\n",
       "       u'Nome Credor', u'Finalidade', u'Fonte de Recurso',\n",
       "       u'Natureza Detalhada', u'Nome Natureza Detalhada', u'UG Executora',\n",
       "       u'Nome UG Executora', u'Mês Emissão', u'Pago'],\n",
       "      dtype='object')"
      ]
     },
     "execution_count": 2,
     "metadata": {},
     "output_type": "execute_result"
    }
   ],
   "source": [
    "path = '../csv/original/'\n",
    "filenames = glob.glob(path + \"/*.csv\")\n",
    "\n",
    "list_ = []\n",
    "frame = pd.DataFrame()\n",
    "\n",
    "# Para cada um dos csv\n",
    "for filename in filenames:\n",
    "    # Leia o CSV\n",
    "    df = pd.read_csv(filename, index_col = False)\n",
    "    # Coloque na lista de CSV\n",
    "    list_.append(df)\n",
    "\n",
    "frame = pd.concat(list_)\n",
    "frame.columns"
   ]
  },
  {
   "cell_type": "code",
   "execution_count": 3,
   "metadata": {},
   "outputs": [],
   "source": [
    "df_clean = frame"
   ]
  },
  {
   "cell_type": "code",
   "execution_count": 4,
   "metadata": {},
   "outputs": [],
   "source": [
    "# Limpeza do dataframe\n",
    "df_clean['Pago'] = df_clean['Pago'].str.strip()\n",
    "df_clean['Pago'] = df_clean['Pago'].str.replace(' ','')\n",
    "df_clean['Pago'] = df_clean['Pago'].str.replace('(','')\n",
    "df_clean['Pago'] = df_clean['Pago'].str.replace(')','')\n",
    "df_clean['Pago'] = df_clean['Pago'].str.replace('.','')\n",
    "df_clean['Pago'] = df_clean['Pago'].str.replace(',','.')\n",
    "\n",
    "df_clean['Nome Credor'] = df_clean['Nome Credor'].str.replace('\\n',' ')\n",
    "df_clean['Nome Credor'] = df_clean['Nome Credor'].str.replace('\\r',' ')\n",
    "\n",
    "df_clean['Nome UG Executora'] = df_clean['Nome UG Executora'].str.replace('\\n',' ')\n",
    "df_clean['Nome UG Executora'] = df_clean['Nome UG Executora'].str.replace('\\r',' ')\n",
    "\n",
    "df_clean['Nome Natureza Detalhada'] = df_clean['Nome Natureza Detalhada'].str.replace('\\n',' ')\n",
    "df_clean['Nome Natureza Detalhada'] = df_clean['Nome Natureza Detalhada'].str.replace('\\r',' ')\n",
    "df_clean['Nome Natureza Detalhada'] = df_clean['Nome Natureza Detalhada'].str.replace('.',' ')\n",
    "df_clean['Nome Natureza Detalhada'] = df_clean['Nome Natureza Detalhada'].str.replace('-',' ')\n",
    "df_clean['Nome Natureza Detalhada'] = df_clean['Nome Natureza Detalhada'].str.replace(',',' ')\n",
    "df_clean['Nome Natureza Detalhada'] = df_clean['Nome Natureza Detalhada'].str.replace('/',' ')\n",
    "df_clean['Nome Natureza Detalhada'] = df_clean['Nome Natureza Detalhada'].str.replace('  ',' ')\n",
    "df_clean['Nome Natureza Detalhada'] = df_clean['Nome Natureza Detalhada'].str.replace('   ',' ')\n",
    "df_clean['Nome Natureza Detalhada'] = df_clean['Nome Natureza Detalhada'].str.replace('    ',' ')\n",
    "df_clean['Nome Natureza Detalhada'] = df_clean['Nome Natureza Detalhada'].str.replace('T I','TI')\n",
    "\n",
    "df_clean['Finalidade'] = df_clean['Finalidade'].str.replace('\\n',' ')\n",
    "df_clean['Finalidade'] = df_clean['Finalidade'].str.replace('//','')\n",
    "df_clean['Finalidade'] = df_clean['Finalidade'].str.replace('\\r',' ')"
   ]
  },
  {
   "cell_type": "code",
   "execution_count": 5,
   "metadata": {},
   "outputs": [
    {
     "data": {
      "text/plain": [
       "(103465, 14)"
      ]
     },
     "execution_count": 5,
     "metadata": {},
     "output_type": "execute_result"
    }
   ],
   "source": [
    "df_clean.shape"
   ]
  },
  {
   "cell_type": "code",
   "execution_count": 6,
   "metadata": {},
   "outputs": [],
   "source": [
    "# Removendo o que? Não estamos perdendo linhas importântes?\n",
    "df_clean = df_clean.dropna()\n",
    "\n",
    "# Tem como converter esses 'NaN' para 0 ?\n",
    "\n",
    "# Como usar o astype(int) ou astype(float) sem dropar esses valores acima?"
   ]
  },
  {
   "cell_type": "code",
   "execution_count": 7,
   "metadata": {
    "scrolled": false
   },
   "outputs": [
    {
     "data": {
      "text/plain": [
       "(83431, 14)"
      ]
     },
     "execution_count": 7,
     "metadata": {},
     "output_type": "execute_result"
    }
   ],
   "source": [
    "df_clean.shape\n",
    "\n",
    "# O que tinha nas 20 mil linhas que foram dropadas?"
   ]
  },
  {
   "cell_type": "code",
   "execution_count": null,
   "metadata": {},
   "outputs": [],
   "source": []
  },
  {
   "cell_type": "code",
   "execution_count": null,
   "metadata": {},
   "outputs": [],
   "source": []
  },
  {
   "cell_type": "markdown",
   "metadata": {},
   "source": [
    "### EXEMPLO DO PROBLEMA QUE É DROPAR AS LINHAS QUE TEM NaN"
   ]
  },
  {
   "cell_type": "code",
   "execution_count": 8,
   "metadata": {
    "scrolled": true
   },
   "outputs": [
    {
     "data": {
      "text/html": [
       "<div>\n",
       "<style scoped>\n",
       "    .dataframe tbody tr th:only-of-type {\n",
       "        vertical-align: middle;\n",
       "    }\n",
       "\n",
       "    .dataframe tbody tr th {\n",
       "        vertical-align: top;\n",
       "    }\n",
       "\n",
       "    .dataframe thead th {\n",
       "        text-align: right;\n",
       "    }\n",
       "</style>\n",
       "<table border=\"1\" class=\"dataframe\">\n",
       "  <thead>\n",
       "    <tr style=\"text-align: right;\">\n",
       "      <th></th>\n",
       "      <th>Descrição</th>\n",
       "      <th>Setor</th>\n",
       "      <th>Valor Gasto</th>\n",
       "    </tr>\n",
       "  </thead>\n",
       "  <tbody>\n",
       "    <tr>\n",
       "      <th>0</th>\n",
       "      <td>Serviços</td>\n",
       "      <td>NaN</td>\n",
       "      <td>1000</td>\n",
       "    </tr>\n",
       "    <tr>\n",
       "      <th>1</th>\n",
       "      <td>Reformas</td>\n",
       "      <td>NaN</td>\n",
       "      <td>2000</td>\n",
       "    </tr>\n",
       "    <tr>\n",
       "      <th>2</th>\n",
       "      <td>Gasolina</td>\n",
       "      <td>Transporte</td>\n",
       "      <td>3000</td>\n",
       "    </tr>\n",
       "  </tbody>\n",
       "</table>\n",
       "</div>"
      ],
      "text/plain": [
       "  Descrição       Setor  Valor Gasto\n",
       "0  Serviços         NaN         1000\n",
       "1  Reformas         NaN         2000\n",
       "2  Gasolina  Transporte         3000"
      ]
     },
     "execution_count": 8,
     "metadata": {},
     "output_type": "execute_result"
    }
   ],
   "source": [
    "# Exemplo\n",
    "\n",
    "exemplo = pd.DataFrame({\"Descrição\": ['Serviços', 'Reformas', 'Gasolina'],\n",
    "\"Setor\": [np.nan, np.nan, 'Transporte'], \"Valor Gasto\": [1000, 2000, 3000]})\n",
    "exemplo"
   ]
  },
  {
   "cell_type": "code",
   "execution_count": 9,
   "metadata": {
    "scrolled": true
   },
   "outputs": [
    {
     "data": {
      "text/html": [
       "<div>\n",
       "<style scoped>\n",
       "    .dataframe tbody tr th:only-of-type {\n",
       "        vertical-align: middle;\n",
       "    }\n",
       "\n",
       "    .dataframe tbody tr th {\n",
       "        vertical-align: top;\n",
       "    }\n",
       "\n",
       "    .dataframe thead th {\n",
       "        text-align: right;\n",
       "    }\n",
       "</style>\n",
       "<table border=\"1\" class=\"dataframe\">\n",
       "  <thead>\n",
       "    <tr style=\"text-align: right;\">\n",
       "      <th></th>\n",
       "      <th>Descrição</th>\n",
       "      <th>Setor</th>\n",
       "      <th>Valor Gasto</th>\n",
       "    </tr>\n",
       "  </thead>\n",
       "  <tbody>\n",
       "    <tr>\n",
       "      <th>2</th>\n",
       "      <td>Gasolina</td>\n",
       "      <td>Transporte</td>\n",
       "      <td>3000</td>\n",
       "    </tr>\n",
       "  </tbody>\n",
       "</table>\n",
       "</div>"
      ],
      "text/plain": [
       "  Descrição       Setor  Valor Gasto\n",
       "2  Gasolina  Transporte         3000"
      ]
     },
     "execution_count": 9,
     "metadata": {},
     "output_type": "execute_result"
    }
   ],
   "source": [
    "# Se eu dropar as linhas que tiver NaN perco 2 linhas com valor de gastos importantes\n",
    "\n",
    "exemplo = exemplo.dropna()\n",
    "exemplo"
   ]
  },
  {
   "cell_type": "markdown",
   "metadata": {},
   "source": [
    "### Fim do Exemplo"
   ]
  },
  {
   "cell_type": "code",
   "execution_count": null,
   "metadata": {},
   "outputs": [],
   "source": []
  },
  {
   "cell_type": "code",
   "execution_count": null,
   "metadata": {},
   "outputs": [],
   "source": []
  },
  {
   "cell_type": "code",
   "execution_count": 10,
   "metadata": {},
   "outputs": [
    {
     "name": "stderr",
     "output_type": "stream",
     "text": [
      "/usr/local/lib/python2.7/dist-packages/ipykernel_launcher.py:4: SettingWithCopyWarning: \n",
      "A value is trying to be set on a copy of a slice from a DataFrame.\n",
      "Try using .loc[row_indexer,col_indexer] = value instead\n",
      "\n",
      "See the caveats in the documentation: http://pandas.pydata.org/pandas-docs/stable/indexing.html#indexing-view-versus-copy\n",
      "  after removing the cwd from sys.path.\n",
      "/usr/local/lib/python2.7/dist-packages/ipykernel_launcher.py:7: SettingWithCopyWarning: \n",
      "A value is trying to be set on a copy of a slice from a DataFrame.\n",
      "Try using .loc[row_indexer,col_indexer] = value instead\n",
      "\n",
      "See the caveats in the documentation: http://pandas.pydata.org/pandas-docs/stable/indexing.html#indexing-view-versus-copy\n",
      "  import sys\n"
     ]
    }
   ],
   "source": [
    "# Como tratar esse erro?\n",
    "\n",
    "# Convertendo uma string para inteiro\n",
    "df_clean['Mês Emissão'] = df_clean['Mês Emissão'].astype(int)\n",
    "\n",
    "# Convertendo uma string para float\n",
    "df_clean['Pago'] = df_clean['Pago'].astype(float)"
   ]
  },
  {
   "cell_type": "code",
   "execution_count": 11,
   "metadata": {},
   "outputs": [
    {
     "data": {
      "text/plain": [
       "11    20188\n",
       "5      7819\n",
       "4      6825\n",
       "2      6736\n",
       "3      6582\n",
       "7      6548\n",
       "9      5871\n",
       "8      5609\n",
       "10     5510\n",
       "12     4569\n",
       "6      4316\n",
       "1      2858\n",
       "Name: Mês Emissão, dtype: int64"
      ]
     },
     "execution_count": 11,
     "metadata": {},
     "output_type": "execute_result"
    }
   ],
   "source": [
    "# Quantidade de lançamentos de gastos de cada mês\n",
    "df_clean['Mês Emissão'].value_counts()"
   ]
  },
  {
   "cell_type": "code",
   "execution_count": 12,
   "metadata": {},
   "outputs": [],
   "source": [
    "# Agrupando e somando as linhas com descrição iguais\n",
    "table_gastos = df_clean.groupby('Nome Natureza Detalhada')['Pago'].sum()\n",
    "\n",
    "# Configurando modo de exibição de floats\n",
    "pd.options.display.float_format = '${:,.2f}'.format"
   ]
  },
  {
   "cell_type": "code",
   "execution_count": 13,
   "metadata": {},
   "outputs": [
    {
     "data": {
      "text/html": [
       "<div>\n",
       "<style scoped>\n",
       "    .dataframe tbody tr th:only-of-type {\n",
       "        vertical-align: middle;\n",
       "    }\n",
       "\n",
       "    .dataframe tbody tr th {\n",
       "        vertical-align: top;\n",
       "    }\n",
       "\n",
       "    .dataframe thead th {\n",
       "        text-align: right;\n",
       "    }\n",
       "</style>\n",
       "<table border=\"1\" class=\"dataframe\">\n",
       "  <thead>\n",
       "    <tr style=\"text-align: right;\">\n",
       "      <th></th>\n",
       "      <th>Nome Natureza Detalhada</th>\n",
       "      <th>Pago</th>\n",
       "    </tr>\n",
       "  </thead>\n",
       "  <tbody>\n",
       "    <tr>\n",
       "      <th>0</th>\n",
       "      <td>13 SALARIO</td>\n",
       "      <td>$62,074,505.06</td>\n",
       "    </tr>\n",
       "    <tr>\n",
       "      <th>1</th>\n",
       "      <td>13 SALARIO  PENSOES CIVIS</td>\n",
       "      <td>$4,598,805.52</td>\n",
       "    </tr>\n",
       "    <tr>\n",
       "      <th>2</th>\n",
       "      <td>13 SALARIO  PESSOAL CIVIL</td>\n",
       "      <td>$26,220,733.49</td>\n",
       "    </tr>\n",
       "    <tr>\n",
       "      <th>3</th>\n",
       "      <td>ABONO DE PERMANENCIA</td>\n",
       "      <td>$9,066,114.39</td>\n",
       "    </tr>\n",
       "    <tr>\n",
       "      <th>4</th>\n",
       "      <td>ADICIONAL DE INSALUBRIDADE</td>\n",
       "      <td>$7,878,905.06</td>\n",
       "    </tr>\n",
       "  </tbody>\n",
       "</table>\n",
       "</div>"
      ],
      "text/plain": [
       "      Nome Natureza Detalhada           Pago\n",
       "0                  13 SALARIO $62,074,505.06\n",
       "1   13 SALARIO  PENSOES CIVIS  $4,598,805.52\n",
       "2   13 SALARIO  PESSOAL CIVIL $26,220,733.49\n",
       "3        ABONO DE PERMANENCIA  $9,066,114.39\n",
       "4  ADICIONAL DE INSALUBRIDADE  $7,878,905.06"
      ]
     },
     "execution_count": 13,
     "metadata": {},
     "output_type": "execute_result"
    }
   ],
   "source": [
    "# Convertendo Series para Dataframe\n",
    "df_gastos = pd.DataFrame(table_gastos).reset_index()\n",
    "\n",
    "# Ordenando em ordem alfabética para facilitar visualização de descrições que podem ser agrupadas\n",
    "df_gastos = df_gastos.sort_values(by='Nome Natureza Detalhada')\n",
    "\n",
    "\n",
    "df_gastos.head()\n",
    "# Repare que algumas linhas da natureza detalhada possuem descrições diferêntes,\n",
    "# porém deveriam está agrupadas juntas (ex.: 13 sal)"
   ]
  },
  {
   "cell_type": "code",
   "execution_count": 14,
   "metadata": {},
   "outputs": [
    {
     "data": {
      "text/html": [
       "<div>\n",
       "<style scoped>\n",
       "    .dataframe tbody tr th:only-of-type {\n",
       "        vertical-align: middle;\n",
       "    }\n",
       "\n",
       "    .dataframe tbody tr th {\n",
       "        vertical-align: top;\n",
       "    }\n",
       "\n",
       "    .dataframe thead th {\n",
       "        text-align: right;\n",
       "    }\n",
       "</style>\n",
       "<table border=\"1\" class=\"dataframe\">\n",
       "  <thead>\n",
       "    <tr style=\"text-align: right;\">\n",
       "      <th></th>\n",
       "      <th>Nome Natureza Detalhada</th>\n",
       "      <th>Pago</th>\n",
       "    </tr>\n",
       "  </thead>\n",
       "  <tbody>\n",
       "    <tr>\n",
       "      <th>0</th>\n",
       "      <td>13 SALARIO</td>\n",
       "      <td>$62,074,505.06</td>\n",
       "    </tr>\n",
       "    <tr>\n",
       "      <th>1</th>\n",
       "      <td>13 SALARIO</td>\n",
       "      <td>$4,598,805.52</td>\n",
       "    </tr>\n",
       "    <tr>\n",
       "      <th>2</th>\n",
       "      <td>13 SALARIO</td>\n",
       "      <td>$26,220,733.49</td>\n",
       "    </tr>\n",
       "    <tr>\n",
       "      <th>3</th>\n",
       "      <td>ABONO DE PERMANENCIA</td>\n",
       "      <td>$9,066,114.39</td>\n",
       "    </tr>\n",
       "    <tr>\n",
       "      <th>4</th>\n",
       "      <td>ADICIONAL DE INSALUBRIDADE</td>\n",
       "      <td>$7,878,905.06</td>\n",
       "    </tr>\n",
       "  </tbody>\n",
       "</table>\n",
       "</div>"
      ],
      "text/plain": [
       "      Nome Natureza Detalhada           Pago\n",
       "0                  13 SALARIO $62,074,505.06\n",
       "1                  13 SALARIO  $4,598,805.52\n",
       "2                  13 SALARIO $26,220,733.49\n",
       "3        ABONO DE PERMANENCIA  $9,066,114.39\n",
       "4  ADICIONAL DE INSALUBRIDADE  $7,878,905.06"
      ]
     },
     "execution_count": 14,
     "metadata": {},
     "output_type": "execute_result"
    }
   ],
   "source": [
    "# Criando uma Series com a coluna \"Nome Natureza Detalhada\"\n",
    "names = df_gastos['Nome Natureza Detalhada']\n",
    "\n",
    "# Função para achar prefixo em comum das frases e substituir na original\n",
    "# ex.: 13 salario pessoal civil -> 13 salario\n",
    "def find_prefix(x):\n",
    "    for name in names:\n",
    "        if len(name) >= len(x):\n",
    "            continue\n",
    "        if name == x[:len(name)]:\n",
    "            return name\n",
    "    return x\n",
    "\n",
    "# Aplicando a função find_prefix para todos elementos da coluna\n",
    "df_gastos['Nome Natureza Detalhada'] = df_gastos['Nome Natureza Detalhada'].apply(find_prefix)\n",
    "\n",
    "# Resultado\n",
    "df_gastos.head()"
   ]
  },
  {
   "cell_type": "code",
   "execution_count": null,
   "metadata": {},
   "outputs": [],
   "source": [
    "# Esta função aplica o conceito da Distância Levenshtein em todos os elementos\n",
    "# e muda a descrição cuja a Distância Levenshtein seja menor ou igual a 3\n",
    "from nltk.metrics import edit_distance\n",
    "names = df_gastos['Nome Natureza Detalhada']\n",
    "\n",
    "def find_similar(x):\n",
    "    for name in names:\n",
    "        # Esta função manipula as duas string do parâmetro e calcula a quantidade de operações para\n",
    "        # transformar name em x\n",
    "        if edit_distance(name, x) <= 3:\n",
    "            return name\n",
    "    return x\n",
    "\n",
    "df_gastos['Nome Natureza Detalhada'] = df_gastos['Nome Natureza Detalhada'].apply(find_similar)\n",
    "df_gastos.head()"
   ]
  },
  {
   "cell_type": "raw",
   "metadata": {},
   "source": [
    "###Conceito da Distância Levenshtein: Quantidade de operações necessárias para transformar uma string em outra\n",
    "\n",
    "ex.: Quantas operações é necessárias para transformar oi em eae\n",
    "\n",
    "--> oi         --> ei                   --> ea -->                 eae\n",
    "//  ^ original     ^ mudar 'o' por 'e'       ^ mudar 'i' por 'a'     ^ adicionar o 'e'\n",
    "//                 1ª operação                  2ª operação            3ª operação\n",
    "\n",
    "Logo a descrição 'oi' irá ser trocada por 'eae' e serão agrupadas na mesma categoria"
   ]
  },
  {
   "cell_type": "code",
   "execution_count": null,
   "metadata": {},
   "outputs": [],
   "source": [
    "# Agrupando e somando as linhas com descrição iguais\n",
    "df_gastos = df_gastos.reset_index()\n",
    "df_gastos = df_gastos.groupby('Nome Natureza Detalhada')['Pago'].sum()\n",
    "df_gastos"
   ]
  },
  {
   "cell_type": "code",
   "execution_count": null,
   "metadata": {},
   "outputs": [],
   "source": [
    "# Salvando o resultado em um csv\n",
    "df_gastos.to_csv('../csv/parsed/Natureza_Detalhada_X_Pago.csv')"
   ]
  }
 ],
 "metadata": {
  "kernelspec": {
   "display_name": "Python 2",
   "language": "python",
   "name": "python2"
  },
  "language_info": {
   "codemirror_mode": {
    "name": "ipython",
    "version": 2
   },
   "file_extension": ".py",
   "mimetype": "text/x-python",
   "name": "python",
   "nbconvert_exporter": "python",
   "pygments_lexer": "ipython2",
   "version": "2.7.12"
  }
 },
 "nbformat": 4,
 "nbformat_minor": 2
}
