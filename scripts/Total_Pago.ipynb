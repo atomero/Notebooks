{
 "cells": [
  {
   "cell_type": "markdown",
   "metadata": {},
   "source": [
    "### Bibliotecas usadas"
   ]
  },
  {
   "cell_type": "code",
   "execution_count": 1,
   "metadata": {},
   "outputs": [
    {
     "name": "stdout",
     "output_type": "stream",
     "text": [
      "Populating the interactive namespace from numpy and matplotlib\n"
     ]
    }
   ],
   "source": [
    "%pylab inline\n",
    "import glob\n",
    "import pandas as pd\n",
    "import math\n",
    "import dateutil"
   ]
  },
  {
   "cell_type": "markdown",
   "metadata": {},
   "source": [
    "### Criação de um DataFrame com as informações dos CSV"
   ]
  },
  {
   "cell_type": "code",
   "execution_count": 2,
   "metadata": {},
   "outputs": [
    {
     "data": {
      "text/html": [
       "<div>\n",
       "<style scoped>\n",
       "    .dataframe tbody tr th:only-of-type {\n",
       "        vertical-align: middle;\n",
       "    }\n",
       "\n",
       "    .dataframe tbody tr th {\n",
       "        vertical-align: top;\n",
       "    }\n",
       "\n",
       "    .dataframe thead th {\n",
       "        text-align: right;\n",
       "    }\n",
       "</style>\n",
       "<table border=\"1\" class=\"dataframe\">\n",
       "  <thead>\n",
       "    <tr style=\"text-align: right;\">\n",
       "      <th></th>\n",
       "      <th>Data Emissão</th>\n",
       "      <th>OB Origem</th>\n",
       "      <th>NE Origem</th>\n",
       "      <th>No Processo</th>\n",
       "      <th>Credor</th>\n",
       "      <th>Nome Credor</th>\n",
       "      <th>Finalidade</th>\n",
       "      <th>Fonte de Recurso</th>\n",
       "      <th>Natureza Detalhada</th>\n",
       "      <th>Nome Natureza Detalhada</th>\n",
       "      <th>UG Executora</th>\n",
       "      <th>Nome UG Executora</th>\n",
       "      <th>Mês Emissão</th>\n",
       "      <th>Pago</th>\n",
       "    </tr>\n",
       "  </thead>\n",
       "  <tbody>\n",
       "    <tr>\n",
       "      <th>0</th>\n",
       "      <td>02/10/2017</td>\n",
       "      <td>2017OB800355</td>\n",
       "      <td>2017NE800036</td>\n",
       "      <td>23106025764/2014-57</td>\n",
       "      <td>00.606.194/0001-73</td>\n",
       "      <td>KOZCOE ENGENHARIA LTDA</td>\n",
       "      <td>PAGAMENTO NOTA FISCAL NF.003.327 - KOZCOE ENGE...</td>\n",
       "      <td>0250154079</td>\n",
       "      <td>3390.39.10</td>\n",
       "      <td>LOCACAO DE IMOVEIS</td>\n",
       "      <td>154079</td>\n",
       "      <td>CENTRO DE SEL.E DE\\r\\nPROMOCAO DE EVENTOS</td>\n",
       "      <td>10</td>\n",
       "      <td>39.667,80</td>\n",
       "    </tr>\n",
       "    <tr>\n",
       "      <th>1</th>\n",
       "      <td>02/10/2017</td>\n",
       "      <td>2017OB806258</td>\n",
       "      <td>2017NE000016</td>\n",
       "      <td>23106118433/2017-94</td>\n",
       "      <td>790.113.491-72</td>\n",
       "      <td>REGINA THELMA MEDEIROS\\r\\nMESQUITA DE ANDRADE</td>\n",
       "      <td>PAGAMENTO DA FOLHA- 09/2017-702 // AUXILIO A\\r...</td>\n",
       "      <td>0250022135</td>\n",
       "      <td>3390.20.01</td>\n",
       "      <td>AUXILIO A PESQUISADORES</td>\n",
       "      <td>154019</td>\n",
       "      <td>CENTRO DE APOIO AO\\r\\nDESENVOLV. TECNOLOGICO\\r...</td>\n",
       "      <td>10</td>\n",
       "      <td>1.810,00</td>\n",
       "    </tr>\n",
       "    <tr>\n",
       "      <th>2</th>\n",
       "      <td>02/10/2017</td>\n",
       "      <td>2017OB806259</td>\n",
       "      <td>2017NE000015</td>\n",
       "      <td>23106.118156/2017-10</td>\n",
       "      <td>376.777.641-34</td>\n",
       "      <td>ALESSANDRO DELON\\r\\nCAMARGO MESQUITA</td>\n",
       "      <td>PAGAMENTO DA FOLHA- 09/2017-715 // AUXILIO A\\r...</td>\n",
       "      <td>0250022135</td>\n",
       "      <td>3390.20.01</td>\n",
       "      <td>AUXILIO A PESQUISADORES</td>\n",
       "      <td>154019</td>\n",
       "      <td>CENTRO DE APOIO AO\\r\\nDESENVOLV. TECNOLOGICO\\r...</td>\n",
       "      <td>10</td>\n",
       "      <td>3.500,00</td>\n",
       "    </tr>\n",
       "    <tr>\n",
       "      <th>3</th>\n",
       "      <td>02/10/2017</td>\n",
       "      <td>2017OB806260</td>\n",
       "      <td>2017NE000015</td>\n",
       "      <td>23106.111709/2017-11</td>\n",
       "      <td>047.828.736-46</td>\n",
       "      <td>BRENO GIOVANNI ADAID\\r\\nCASTRO</td>\n",
       "      <td>PAGAMENTO DA FOLHA- 09/2017-692 // AUXILIO A\\r...</td>\n",
       "      <td>0250022135</td>\n",
       "      <td>3390.20.01</td>\n",
       "      <td>AUXILIO A PESQUISADORES</td>\n",
       "      <td>154019</td>\n",
       "      <td>CENTRO DE APOIO AO\\r\\nDESENVOLV. TECNOLOGICO\\r...</td>\n",
       "      <td>10</td>\n",
       "      <td>4.200,00</td>\n",
       "    </tr>\n",
       "    <tr>\n",
       "      <th>4</th>\n",
       "      <td>02/10/2017</td>\n",
       "      <td>2017OB806261</td>\n",
       "      <td>2017NE000015</td>\n",
       "      <td>23106.111714/2017-16</td>\n",
       "      <td>863.689.901-04</td>\n",
       "      <td>FABIO JACINTO BARRETO\\r\\nDE SOUZA</td>\n",
       "      <td>PAGAMENTO DA FOLHA- 09/2017-693 // AUXILIO A\\r...</td>\n",
       "      <td>0250022135</td>\n",
       "      <td>3390.20.01</td>\n",
       "      <td>AUXILIO A PESQUISADORES</td>\n",
       "      <td>154019</td>\n",
       "      <td>CENTRO DE APOIO AO\\r\\nDESENVOLV. TECNOLOGICO\\r...</td>\n",
       "      <td>10</td>\n",
       "      <td>5.500,00</td>\n",
       "    </tr>\n",
       "  </tbody>\n",
       "</table>\n",
       "</div>"
      ],
      "text/plain": [
       "  Data Emissão     OB Origem     NE Origem           No Processo  \\\n",
       "0   02/10/2017  2017OB800355  2017NE800036   23106025764/2014-57   \n",
       "1   02/10/2017  2017OB806258  2017NE000016   23106118433/2017-94   \n",
       "2   02/10/2017  2017OB806259  2017NE000015  23106.118156/2017-10   \n",
       "3   02/10/2017  2017OB806260  2017NE000015  23106.111709/2017-11   \n",
       "4   02/10/2017  2017OB806261  2017NE000015  23106.111714/2017-16   \n",
       "\n",
       "               Credor                                    Nome Credor  \\\n",
       "0  00.606.194/0001-73                         KOZCOE ENGENHARIA LTDA   \n",
       "1      790.113.491-72  REGINA THELMA MEDEIROS\\r\\nMESQUITA DE ANDRADE   \n",
       "2      376.777.641-34           ALESSANDRO DELON\\r\\nCAMARGO MESQUITA   \n",
       "3      047.828.736-46                 BRENO GIOVANNI ADAID\\r\\nCASTRO   \n",
       "4      863.689.901-04              FABIO JACINTO BARRETO\\r\\nDE SOUZA   \n",
       "\n",
       "                                          Finalidade Fonte de Recurso  \\\n",
       "0  PAGAMENTO NOTA FISCAL NF.003.327 - KOZCOE ENGE...       0250154079   \n",
       "1  PAGAMENTO DA FOLHA- 09/2017-702 // AUXILIO A\\r...       0250022135   \n",
       "2  PAGAMENTO DA FOLHA- 09/2017-715 // AUXILIO A\\r...       0250022135   \n",
       "3  PAGAMENTO DA FOLHA- 09/2017-692 // AUXILIO A\\r...       0250022135   \n",
       "4  PAGAMENTO DA FOLHA- 09/2017-693 // AUXILIO A\\r...       0250022135   \n",
       "\n",
       "  Natureza Detalhada  Nome Natureza Detalhada UG Executora  \\\n",
       "0         3390.39.10       LOCACAO DE IMOVEIS       154079   \n",
       "1         3390.20.01  AUXILIO A PESQUISADORES       154019   \n",
       "2         3390.20.01  AUXILIO A PESQUISADORES       154019   \n",
       "3         3390.20.01  AUXILIO A PESQUISADORES       154019   \n",
       "4         3390.20.01  AUXILIO A PESQUISADORES       154019   \n",
       "\n",
       "                                   Nome UG Executora Mês Emissão       Pago  \n",
       "0          CENTRO DE SEL.E DE\\r\\nPROMOCAO DE EVENTOS          10  39.667,80  \n",
       "1  CENTRO DE APOIO AO\\r\\nDESENVOLV. TECNOLOGICO\\r...          10   1.810,00  \n",
       "2  CENTRO DE APOIO AO\\r\\nDESENVOLV. TECNOLOGICO\\r...          10   3.500,00  \n",
       "3  CENTRO DE APOIO AO\\r\\nDESENVOLV. TECNOLOGICO\\r...          10   4.200,00  \n",
       "4  CENTRO DE APOIO AO\\r\\nDESENVOLV. TECNOLOGICO\\r...          10   5.500,00  "
      ]
     },
     "execution_count": 2,
     "metadata": {},
     "output_type": "execute_result"
    }
   ],
   "source": [
    "path = '../csv/original/'\n",
    "filenames = glob.glob(path + \"/*.csv\")\n",
    "\n",
    "list_ = []\n",
    "frame = pd.DataFrame()\n",
    "\n",
    "# Para cada um dos csv\n",
    "for filename in filenames:\n",
    "    # Leia o CSV\n",
    "    df = pd.read_csv(filename, index_col = False)\n",
    "    # Coloque na lista de CSV\n",
    "    list_.append(df)\n",
    "\n",
    "frame = pd.concat(list_)\n",
    "\n",
    "# Remover a ultima linha do frame (NaN line)\n",
    "frame = frame.drop(frame.index[len(frame)-1])\n",
    "\n",
    "# Dataframe\n",
    "df_clean = frame.dropna()\n",
    "\n",
    "df_clean.head()"
   ]
  },
  {
   "cell_type": "markdown",
   "metadata": {},
   "source": [
    "### Limpar a coluna Pago (Remover tudo que não for numero ou ,)"
   ]
  },
  {
   "cell_type": "code",
   "execution_count": 3,
   "metadata": {
    "scrolled": false
   },
   "outputs": [
    {
     "name": "stderr",
     "output_type": "stream",
     "text": [
      "/usr/local/lib/python2.7/dist-packages/ipykernel_launcher.py:4: SettingWithCopyWarning: \n",
      "A value is trying to be set on a copy of a slice from a DataFrame.\n",
      "Try using .loc[row_indexer,col_indexer] = value instead\n",
      "\n",
      "See the caveats in the documentation: http://pandas.pydata.org/pandas-docs/stable/indexing.html#indexing-view-versus-copy\n",
      "  after removing the cwd from sys.path.\n",
      "/usr/local/lib/python2.7/dist-packages/ipykernel_launcher.py:6: SettingWithCopyWarning: \n",
      "A value is trying to be set on a copy of a slice from a DataFrame.\n",
      "Try using .loc[row_indexer,col_indexer] = value instead\n",
      "\n",
      "See the caveats in the documentation: http://pandas.pydata.org/pandas-docs/stable/indexing.html#indexing-view-versus-copy\n",
      "  \n",
      "/usr/local/lib/python2.7/dist-packages/ipykernel_launcher.py:8: SettingWithCopyWarning: \n",
      "A value is trying to be set on a copy of a slice from a DataFrame.\n",
      "Try using .loc[row_indexer,col_indexer] = value instead\n",
      "\n",
      "See the caveats in the documentation: http://pandas.pydata.org/pandas-docs/stable/indexing.html#indexing-view-versus-copy\n",
      "  \n"
     ]
    },
    {
     "data": {
      "text/plain": [
       "0    39667.80\n",
       "1     1810.00\n",
       "2     3500.00\n",
       "3     4200.00\n",
       "4     5500.00\n",
       "Name: Pago, dtype: object"
      ]
     },
     "execution_count": 3,
     "metadata": {},
     "output_type": "execute_result"
    }
   ],
   "source": [
    "def still_numbers_and_commas(element):\n",
    "    return \"\".join(i for i in element if i.isdigit() or i == ',')\n",
    "\n",
    "df_clean['Pago'] = df_clean['Pago'].astype(str)\n",
    "\n",
    "df_clean['Pago'] = df_clean['Pago'].apply(still_numbers_and_commas)\n",
    "\n",
    "df_clean['Pago'] = df_clean['Pago'].str.replace(',','.')\n",
    "\n",
    "df_clean['Pago'].head()"
   ]
  },
  {
   "cell_type": "code",
   "execution_count": 4,
   "metadata": {},
   "outputs": [
    {
     "name": "stderr",
     "output_type": "stream",
     "text": [
      "/usr/local/lib/python2.7/dist-packages/pandas/core/generic.py:5434: SettingWithCopyWarning: \n",
      "A value is trying to be set on a copy of a slice from a DataFrame\n",
      "\n",
      "See the caveats in the documentation: http://pandas.pydata.org/pandas-docs/stable/indexing.html#indexing-view-versus-copy\n",
      "  self._update_inplace(new_data)\n"
     ]
    }
   ],
   "source": [
    "df_clean['Pago'].fillna(0, inplace=True)"
   ]
  },
  {
   "cell_type": "code",
   "execution_count": 5,
   "metadata": {},
   "outputs": [
    {
     "name": "stderr",
     "output_type": "stream",
     "text": [
      "/usr/local/lib/python2.7/dist-packages/ipykernel_launcher.py:1: SettingWithCopyWarning: \n",
      "A value is trying to be set on a copy of a slice from a DataFrame.\n",
      "Try using .loc[row_indexer,col_indexer] = value instead\n",
      "\n",
      "See the caveats in the documentation: http://pandas.pydata.org/pandas-docs/stable/indexing.html#indexing-view-versus-copy\n",
      "  \"\"\"Entry point for launching an IPython kernel.\n"
     ]
    }
   ],
   "source": [
    "df_clean['Pago'] = df_clean['Pago'].astype(float)\n",
    "total_gastos = df_clean['Pago'].sum()\n",
    "total_gastos = str(total_gastos)"
   ]
  },
  {
   "cell_type": "markdown",
   "metadata": {},
   "source": [
    "### Salvando o resultado em um CSV"
   ]
  },
  {
   "cell_type": "code",
   "execution_count": 6,
   "metadata": {},
   "outputs": [],
   "source": [
    "import csv\n",
    "File = open(\"../csv/parsed/Total_Pago.csv\",'w')\n",
    "\n",
    "File.write(total_gastos + \"\\n\")\n",
    "\n",
    "File.close()"
   ]
  }
 ],
 "metadata": {
  "kernelspec": {
   "display_name": "Python 2",
   "language": "python",
   "name": "python2"
  },
  "language_info": {
   "codemirror_mode": {
    "name": "ipython",
    "version": 2
   },
   "file_extension": ".py",
   "mimetype": "text/x-python",
   "name": "python",
   "nbconvert_exporter": "python",
   "pygments_lexer": "ipython2",
   "version": "2.7.12"
  }
 },
 "nbformat": 4,
 "nbformat_minor": 2
}
