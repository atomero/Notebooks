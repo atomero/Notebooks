{
 "cells": [
  {
   "cell_type": "code",
   "execution_count": 2,
   "metadata": {},
   "outputs": [],
   "source": [
    "import glob\n",
    "import pandas as pd\n",
    "import math"
   ]
  },
  {
   "cell_type": "markdown",
   "metadata": {},
   "source": [
    "# Criando Dataframe"
   ]
  },
  {
   "cell_type": "code",
   "execution_count": 3,
   "metadata": {},
   "outputs": [
    {
     "data": {
      "text/plain": [
       "Index(['Data Emissão', 'OB Origem', 'NE Origem', 'No Processo', 'Credor',\n",
       "       'Nome Credor', 'Finalidade', 'Fonte de Recurso', 'Natureza Detalhada',\n",
       "       'Nome Natureza Detalhada', 'UG Executora', 'Nome UG Executora',\n",
       "       'Mês Emissão', 'Pago'],\n",
       "      dtype='object')"
      ]
     },
     "execution_count": 3,
     "metadata": {},
     "output_type": "execute_result"
    }
   ],
   "source": [
    "path = '../csv/original/'\n",
    "filenames = glob.glob(path + \"/*.csv\")\n",
    "\n",
    "list_ = []\n",
    "frame = pd.DataFrame()\n",
    "\n",
    "for filename in filenames:\n",
    "    df = pd.read_csv(filename, index_col = False)\n",
    "    list_.append(df)\n",
    "\n",
    "frame = pd.concat(list_)\n",
    "frame.columns"
   ]
  },
  {
   "cell_type": "code",
   "execution_count": 4,
   "metadata": {},
   "outputs": [
    {
     "data": {
      "text/html": [
       "<div>\n",
       "<style scoped>\n",
       "    .dataframe tbody tr th:only-of-type {\n",
       "        vertical-align: middle;\n",
       "    }\n",
       "\n",
       "    .dataframe tbody tr th {\n",
       "        vertical-align: top;\n",
       "    }\n",
       "\n",
       "    .dataframe thead th {\n",
       "        text-align: right;\n",
       "    }\n",
       "</style>\n",
       "<table border=\"1\" class=\"dataframe\">\n",
       "  <thead>\n",
       "    <tr style=\"text-align: right;\">\n",
       "      <th></th>\n",
       "      <th>Data Emissão</th>\n",
       "      <th>OB Origem</th>\n",
       "      <th>NE Origem</th>\n",
       "      <th>No Processo</th>\n",
       "      <th>Credor</th>\n",
       "      <th>Nome Credor</th>\n",
       "      <th>Finalidade</th>\n",
       "      <th>Fonte de Recurso</th>\n",
       "      <th>Natureza Detalhada</th>\n",
       "      <th>Nome Natureza Detalhada</th>\n",
       "      <th>UG Executora</th>\n",
       "      <th>Nome UG Executora</th>\n",
       "      <th>Mês Emissão</th>\n",
       "      <th>Pago</th>\n",
       "    </tr>\n",
       "  </thead>\n",
       "  <tbody>\n",
       "    <tr>\n",
       "      <th>0</th>\n",
       "      <td>01/09/2017</td>\n",
       "      <td>2017OB805678</td>\n",
       "      <td>2016NE000034</td>\n",
       "      <td>23106.098701/2017-44</td>\n",
       "      <td>032.022.191-11</td>\n",
       "      <td>MARIANA FIGUEIREDO\\nMIRANDA</td>\n",
       "      <td>PAGAMENTO DE FOLHA 8/2017-746, REFERENTE A AUX...</td>\n",
       "      <td>100000000</td>\n",
       "      <td>3390.20.01</td>\n",
       "      <td>AUXILIO A PESQUISADORES</td>\n",
       "      <td>154019</td>\n",
       "      <td>CENTRO DE APOIO AO\\nDESENVOLV. TECNOLOGICO-\\nCDT</td>\n",
       "      <td>9</td>\n",
       "      <td>3.250,00</td>\n",
       "    </tr>\n",
       "    <tr>\n",
       "      <th>1</th>\n",
       "      <td>01/09/2017</td>\n",
       "      <td>2017OB805680</td>\n",
       "      <td>2014NE000150</td>\n",
       "      <td>23106.013536/2014-16</td>\n",
       "      <td>991.772.341-20</td>\n",
       "      <td>MARIANA COSTA BERNARDES\\nMATIAS</td>\n",
       "      <td>PAGAMENTO DE FOLHA 8/2017-776, REFERENTE A PRE...</td>\n",
       "      <td>6151000000</td>\n",
       "      <td>3390.36.06</td>\n",
       "      <td>SERVICOS TECNICOS\\nPROFISSIONAIS</td>\n",
       "      <td>154019</td>\n",
       "      <td>CENTRO DE APOIO AO\\nDESENVOLV. TECNOLOGICO-\\nCDT</td>\n",
       "      <td>9</td>\n",
       "      <td>6.227,52</td>\n",
       "    </tr>\n",
       "    <tr>\n",
       "      <th>2</th>\n",
       "      <td>01/09/2017</td>\n",
       "      <td>2017OB805681</td>\n",
       "      <td>2015NE000101</td>\n",
       "      <td>23106.016174/2014-15</td>\n",
       "      <td>694.622.751-49</td>\n",
       "      <td>PEDRO PAULO MURCE\\nMENESES</td>\n",
       "      <td>PAGAMENTO DA FOLHA 08/2017-773 // PRESTACAO DE...</td>\n",
       "      <td>100049101</td>\n",
       "      <td>3390.36.06</td>\n",
       "      <td>SERVICOS TECNICOS\\nPROFISSIONAIS</td>\n",
       "      <td>154019</td>\n",
       "      <td>CENTRO DE APOIO AO\\nDESENVOLV. TECNOLOGICO-\\nCDT</td>\n",
       "      <td>9</td>\n",
       "      <td>2.003,34</td>\n",
       "    </tr>\n",
       "    <tr>\n",
       "      <th>3</th>\n",
       "      <td>01/09/2017</td>\n",
       "      <td>2017OB805682</td>\n",
       "      <td>2015NE000101</td>\n",
       "      <td>23106.016174/2014-15</td>\n",
       "      <td>602.122.331-49</td>\n",
       "      <td>ANDRE LUIZ MARQUES\\nSERRANO</td>\n",
       "      <td>PAGAMENTO DA FOLHA 08/2017-774 // PRESTACAO DE...</td>\n",
       "      <td>100049101</td>\n",
       "      <td>3390.36.06</td>\n",
       "      <td>SERVICOS TECNICOS\\nPROFISSIONAIS</td>\n",
       "      <td>154019</td>\n",
       "      <td>CENTRO DE APOIO AO\\nDESENVOLV. TECNOLOGICO-\\nCDT</td>\n",
       "      <td>9</td>\n",
       "      <td>6.155,74</td>\n",
       "    </tr>\n",
       "    <tr>\n",
       "      <th>4</th>\n",
       "      <td>01/09/2017</td>\n",
       "      <td>2017OB805683</td>\n",
       "      <td>2017NE000069</td>\n",
       "      <td>23106.106542/2017-69</td>\n",
       "      <td>020.971.891-99</td>\n",
       "      <td>MARCO ANTONIO ALMEIDA</td>\n",
       "      <td>PAGAMENTO DE FOLHA 8/2017-770, REFERENTE A AUX...</td>\n",
       "      <td>6151000000</td>\n",
       "      <td>3390.20.01</td>\n",
       "      <td>AUXILIO A PESQUISADORES</td>\n",
       "      <td>154019</td>\n",
       "      <td>CENTRO DE APOIO AO\\nDESENVOLV. TECNOLOGICO-\\nCDT</td>\n",
       "      <td>9</td>\n",
       "      <td>1.800,00</td>\n",
       "    </tr>\n",
       "  </tbody>\n",
       "</table>\n",
       "</div>"
      ],
      "text/plain": [
       "  Data Emissão     OB Origem     NE Origem           No Processo  \\\n",
       "0   01/09/2017  2017OB805678  2016NE000034  23106.098701/2017-44   \n",
       "1   01/09/2017  2017OB805680  2014NE000150  23106.013536/2014-16   \n",
       "2   01/09/2017  2017OB805681  2015NE000101  23106.016174/2014-15   \n",
       "3   01/09/2017  2017OB805682  2015NE000101  23106.016174/2014-15   \n",
       "4   01/09/2017  2017OB805683  2017NE000069  23106.106542/2017-69   \n",
       "\n",
       "           Credor                      Nome Credor  \\\n",
       "0  032.022.191-11      MARIANA FIGUEIREDO\\nMIRANDA   \n",
       "1  991.772.341-20  MARIANA COSTA BERNARDES\\nMATIAS   \n",
       "2  694.622.751-49       PEDRO PAULO MURCE\\nMENESES   \n",
       "3  602.122.331-49      ANDRE LUIZ MARQUES\\nSERRANO   \n",
       "4  020.971.891-99            MARCO ANTONIO ALMEIDA   \n",
       "\n",
       "                                          Finalidade Fonte de Recurso  \\\n",
       "0  PAGAMENTO DE FOLHA 8/2017-746, REFERENTE A AUX...        100000000   \n",
       "1  PAGAMENTO DE FOLHA 8/2017-776, REFERENTE A PRE...       6151000000   \n",
       "2  PAGAMENTO DA FOLHA 08/2017-773 // PRESTACAO DE...        100049101   \n",
       "3  PAGAMENTO DA FOLHA 08/2017-774 // PRESTACAO DE...        100049101   \n",
       "4  PAGAMENTO DE FOLHA 8/2017-770, REFERENTE A AUX...       6151000000   \n",
       "\n",
       "  Natureza Detalhada           Nome Natureza Detalhada UG Executora  \\\n",
       "0         3390.20.01           AUXILIO A PESQUISADORES       154019   \n",
       "1         3390.36.06  SERVICOS TECNICOS\\nPROFISSIONAIS       154019   \n",
       "2         3390.36.06  SERVICOS TECNICOS\\nPROFISSIONAIS       154019   \n",
       "3         3390.36.06  SERVICOS TECNICOS\\nPROFISSIONAIS       154019   \n",
       "4         3390.20.01           AUXILIO A PESQUISADORES       154019   \n",
       "\n",
       "                                  Nome UG Executora Mês Emissão      Pago  \n",
       "0  CENTRO DE APOIO AO\\nDESENVOLV. TECNOLOGICO-\\nCDT           9  3.250,00  \n",
       "1  CENTRO DE APOIO AO\\nDESENVOLV. TECNOLOGICO-\\nCDT           9  6.227,52  \n",
       "2  CENTRO DE APOIO AO\\nDESENVOLV. TECNOLOGICO-\\nCDT           9  2.003,34  \n",
       "3  CENTRO DE APOIO AO\\nDESENVOLV. TECNOLOGICO-\\nCDT           9  6.155,74  \n",
       "4  CENTRO DE APOIO AO\\nDESENVOLV. TECNOLOGICO-\\nCDT           9  1.800,00  "
      ]
     },
     "execution_count": 4,
     "metadata": {},
     "output_type": "execute_result"
    }
   ],
   "source": [
    "frame.head()"
   ]
  },
  {
   "cell_type": "markdown",
   "metadata": {},
   "source": [
    "# Removendo linhas em branco"
   ]
  },
  {
   "cell_type": "code",
   "execution_count": 5,
   "metadata": {},
   "outputs": [
    {
     "data": {
      "text/plain": [
       "Data Emissão               object\n",
       "OB Origem                  object\n",
       "NE Origem                  object\n",
       "No Processo                object\n",
       "Credor                     object\n",
       "Nome Credor                object\n",
       "Finalidade                 object\n",
       "Fonte de Recurso           object\n",
       "Natureza Detalhada         object\n",
       "Nome Natureza Detalhada    object\n",
       "UG Executora               object\n",
       "Nome UG Executora          object\n",
       "Mês Emissão                object\n",
       "Pago                       object\n",
       "dtype: object"
      ]
     },
     "execution_count": 5,
     "metadata": {},
     "output_type": "execute_result"
    }
   ],
   "source": [
    "frame.dtypes"
   ]
  },
  {
   "cell_type": "code",
   "execution_count": 6,
   "metadata": {},
   "outputs": [
    {
     "data": {
      "text/plain": [
       "(103465, 14)"
      ]
     },
     "execution_count": 6,
     "metadata": {},
     "output_type": "execute_result"
    }
   ],
   "source": [
    "frame.shape"
   ]
  },
  {
   "cell_type": "code",
   "execution_count": 7,
   "metadata": {},
   "outputs": [],
   "source": [
    "df = pd.DataFrame\n",
    "df = frame.dropna()"
   ]
  },
  {
   "cell_type": "code",
   "execution_count": 8,
   "metadata": {},
   "outputs": [
    {
     "data": {
      "text/plain": [
       "(83431, 14)"
      ]
     },
     "execution_count": 8,
     "metadata": {},
     "output_type": "execute_result"
    }
   ],
   "source": [
    "df.shape"
   ]
  },
  {
   "cell_type": "code",
   "execution_count": 9,
   "metadata": {},
   "outputs": [],
   "source": [
    "df_clean = df.drop('No Processo', axis=1)\n",
    "df_clean = df_clean.drop('Finalidade', axis=1)"
   ]
  },
  {
   "cell_type": "code",
   "execution_count": 10,
   "metadata": {},
   "outputs": [
    {
     "data": {
      "text/html": [
       "<div>\n",
       "<style scoped>\n",
       "    .dataframe tbody tr th:only-of-type {\n",
       "        vertical-align: middle;\n",
       "    }\n",
       "\n",
       "    .dataframe tbody tr th {\n",
       "        vertical-align: top;\n",
       "    }\n",
       "\n",
       "    .dataframe thead th {\n",
       "        text-align: right;\n",
       "    }\n",
       "</style>\n",
       "<table border=\"1\" class=\"dataframe\">\n",
       "  <thead>\n",
       "    <tr style=\"text-align: right;\">\n",
       "      <th></th>\n",
       "      <th>Data Emissão</th>\n",
       "      <th>OB Origem</th>\n",
       "      <th>NE Origem</th>\n",
       "      <th>Credor</th>\n",
       "      <th>Nome Credor</th>\n",
       "      <th>Fonte de Recurso</th>\n",
       "      <th>Natureza Detalhada</th>\n",
       "      <th>Nome Natureza Detalhada</th>\n",
       "      <th>UG Executora</th>\n",
       "      <th>Nome UG Executora</th>\n",
       "      <th>Mês Emissão</th>\n",
       "      <th>Pago</th>\n",
       "    </tr>\n",
       "  </thead>\n",
       "  <tbody>\n",
       "    <tr>\n",
       "      <th>0</th>\n",
       "      <td>01/09/2017</td>\n",
       "      <td>2017OB805678</td>\n",
       "      <td>2016NE000034</td>\n",
       "      <td>032.022.191-11</td>\n",
       "      <td>MARIANA FIGUEIREDO\\nMIRANDA</td>\n",
       "      <td>100000000</td>\n",
       "      <td>3390.20.01</td>\n",
       "      <td>AUXILIO A PESQUISADORES</td>\n",
       "      <td>154019</td>\n",
       "      <td>CENTRO DE APOIO AO\\nDESENVOLV. TECNOLOGICO-\\nCDT</td>\n",
       "      <td>9</td>\n",
       "      <td>3.250,00</td>\n",
       "    </tr>\n",
       "    <tr>\n",
       "      <th>1</th>\n",
       "      <td>01/09/2017</td>\n",
       "      <td>2017OB805680</td>\n",
       "      <td>2014NE000150</td>\n",
       "      <td>991.772.341-20</td>\n",
       "      <td>MARIANA COSTA BERNARDES\\nMATIAS</td>\n",
       "      <td>6151000000</td>\n",
       "      <td>3390.36.06</td>\n",
       "      <td>SERVICOS TECNICOS\\nPROFISSIONAIS</td>\n",
       "      <td>154019</td>\n",
       "      <td>CENTRO DE APOIO AO\\nDESENVOLV. TECNOLOGICO-\\nCDT</td>\n",
       "      <td>9</td>\n",
       "      <td>6.227,52</td>\n",
       "    </tr>\n",
       "    <tr>\n",
       "      <th>2</th>\n",
       "      <td>01/09/2017</td>\n",
       "      <td>2017OB805681</td>\n",
       "      <td>2015NE000101</td>\n",
       "      <td>694.622.751-49</td>\n",
       "      <td>PEDRO PAULO MURCE\\nMENESES</td>\n",
       "      <td>100049101</td>\n",
       "      <td>3390.36.06</td>\n",
       "      <td>SERVICOS TECNICOS\\nPROFISSIONAIS</td>\n",
       "      <td>154019</td>\n",
       "      <td>CENTRO DE APOIO AO\\nDESENVOLV. TECNOLOGICO-\\nCDT</td>\n",
       "      <td>9</td>\n",
       "      <td>2.003,34</td>\n",
       "    </tr>\n",
       "    <tr>\n",
       "      <th>3</th>\n",
       "      <td>01/09/2017</td>\n",
       "      <td>2017OB805682</td>\n",
       "      <td>2015NE000101</td>\n",
       "      <td>602.122.331-49</td>\n",
       "      <td>ANDRE LUIZ MARQUES\\nSERRANO</td>\n",
       "      <td>100049101</td>\n",
       "      <td>3390.36.06</td>\n",
       "      <td>SERVICOS TECNICOS\\nPROFISSIONAIS</td>\n",
       "      <td>154019</td>\n",
       "      <td>CENTRO DE APOIO AO\\nDESENVOLV. TECNOLOGICO-\\nCDT</td>\n",
       "      <td>9</td>\n",
       "      <td>6.155,74</td>\n",
       "    </tr>\n",
       "    <tr>\n",
       "      <th>4</th>\n",
       "      <td>01/09/2017</td>\n",
       "      <td>2017OB805683</td>\n",
       "      <td>2017NE000069</td>\n",
       "      <td>020.971.891-99</td>\n",
       "      <td>MARCO ANTONIO ALMEIDA</td>\n",
       "      <td>6151000000</td>\n",
       "      <td>3390.20.01</td>\n",
       "      <td>AUXILIO A PESQUISADORES</td>\n",
       "      <td>154019</td>\n",
       "      <td>CENTRO DE APOIO AO\\nDESENVOLV. TECNOLOGICO-\\nCDT</td>\n",
       "      <td>9</td>\n",
       "      <td>1.800,00</td>\n",
       "    </tr>\n",
       "  </tbody>\n",
       "</table>\n",
       "</div>"
      ],
      "text/plain": [
       "  Data Emissão     OB Origem     NE Origem          Credor  \\\n",
       "0   01/09/2017  2017OB805678  2016NE000034  032.022.191-11   \n",
       "1   01/09/2017  2017OB805680  2014NE000150  991.772.341-20   \n",
       "2   01/09/2017  2017OB805681  2015NE000101  694.622.751-49   \n",
       "3   01/09/2017  2017OB805682  2015NE000101  602.122.331-49   \n",
       "4   01/09/2017  2017OB805683  2017NE000069  020.971.891-99   \n",
       "\n",
       "                       Nome Credor Fonte de Recurso Natureza Detalhada  \\\n",
       "0      MARIANA FIGUEIREDO\\nMIRANDA        100000000         3390.20.01   \n",
       "1  MARIANA COSTA BERNARDES\\nMATIAS       6151000000         3390.36.06   \n",
       "2       PEDRO PAULO MURCE\\nMENESES        100049101         3390.36.06   \n",
       "3      ANDRE LUIZ MARQUES\\nSERRANO        100049101         3390.36.06   \n",
       "4            MARCO ANTONIO ALMEIDA       6151000000         3390.20.01   \n",
       "\n",
       "            Nome Natureza Detalhada UG Executora  \\\n",
       "0           AUXILIO A PESQUISADORES       154019   \n",
       "1  SERVICOS TECNICOS\\nPROFISSIONAIS       154019   \n",
       "2  SERVICOS TECNICOS\\nPROFISSIONAIS       154019   \n",
       "3  SERVICOS TECNICOS\\nPROFISSIONAIS       154019   \n",
       "4           AUXILIO A PESQUISADORES       154019   \n",
       "\n",
       "                                  Nome UG Executora Mês Emissão      Pago  \n",
       "0  CENTRO DE APOIO AO\\nDESENVOLV. TECNOLOGICO-\\nCDT           9  3.250,00  \n",
       "1  CENTRO DE APOIO AO\\nDESENVOLV. TECNOLOGICO-\\nCDT           9  6.227,52  \n",
       "2  CENTRO DE APOIO AO\\nDESENVOLV. TECNOLOGICO-\\nCDT           9  2.003,34  \n",
       "3  CENTRO DE APOIO AO\\nDESENVOLV. TECNOLOGICO-\\nCDT           9  6.155,74  \n",
       "4  CENTRO DE APOIO AO\\nDESENVOLV. TECNOLOGICO-\\nCDT           9  1.800,00  "
      ]
     },
     "execution_count": 10,
     "metadata": {},
     "output_type": "execute_result"
    }
   ],
   "source": [
    "df_clean.head()"
   ]
  },
  {
   "cell_type": "markdown",
   "metadata": {},
   "source": [
    "# Padronizando colunas"
   ]
  },
  {
   "cell_type": "code",
   "execution_count": 11,
   "metadata": {},
   "outputs": [],
   "source": [
    "df_clean['Mês Emissão'] = df_clean['Mês Emissão'].astype(int)"
   ]
  },
  {
   "cell_type": "code",
   "execution_count": 12,
   "metadata": {},
   "outputs": [
    {
     "data": {
      "text/plain": [
       "Data Emissão               object\n",
       "OB Origem                  object\n",
       "NE Origem                  object\n",
       "Credor                     object\n",
       "Nome Credor                object\n",
       "Fonte de Recurso           object\n",
       "Natureza Detalhada         object\n",
       "Nome Natureza Detalhada    object\n",
       "UG Executora               object\n",
       "Nome UG Executora          object\n",
       "Mês Emissão                 int64\n",
       "Pago                       object\n",
       "dtype: object"
      ]
     },
     "execution_count": 12,
     "metadata": {},
     "output_type": "execute_result"
    }
   ],
   "source": [
    "df_clean.dtypes"
   ]
  },
  {
   "cell_type": "code",
   "execution_count": 13,
   "metadata": {},
   "outputs": [],
   "source": [
    "df_clean['Pago'] = df_clean['Pago'].str.strip()\n",
    "df_clean['Pago'] = df_clean['Pago'].str.replace(' ','')\n",
    "df_clean['Pago'] = df_clean['Pago'].str.replace('(','')\n",
    "df_clean['Pago'] = df_clean['Pago'].str.replace(')','')"
   ]
  },
  {
   "cell_type": "code",
   "execution_count": 14,
   "metadata": {},
   "outputs": [
    {
     "data": {
      "text/plain": [
       "(83431, 12)"
      ]
     },
     "execution_count": 14,
     "metadata": {},
     "output_type": "execute_result"
    }
   ],
   "source": [
    "df_clean.shape"
   ]
  },
  {
   "cell_type": "code",
   "execution_count": 15,
   "metadata": {},
   "outputs": [],
   "source": [
    "df_clean['Nome Credor'] = df_clean['Nome Credor'].str.replace('\\n',' ')\n",
    "df_clean['Nome Credor'] = df_clean['Nome Credor'].str.replace('\\r',' ')\n",
    "df_clean['Nome UG Executora'] = df_clean['Nome UG Executora'].str.replace('\\n',' ')\n",
    "df_clean['Nome UG Executora'] = df_clean['Nome UG Executora'].str.replace('\\r',' ')\n",
    "df_clean['Nome Natureza Detalhada'] = df_clean['Nome Natureza Detalhada'].str.replace('\\n',' ')\n",
    "df_clean['Nome Natureza Detalhada'] = df_clean['Nome Natureza Detalhada'].str.replace('\\r',' ')"
   ]
  },
  {
   "cell_type": "code",
   "execution_count": 16,
   "metadata": {},
   "outputs": [
    {
     "data": {
      "text/html": [
       "<div>\n",
       "<style scoped>\n",
       "    .dataframe tbody tr th:only-of-type {\n",
       "        vertical-align: middle;\n",
       "    }\n",
       "\n",
       "    .dataframe tbody tr th {\n",
       "        vertical-align: top;\n",
       "    }\n",
       "\n",
       "    .dataframe thead th {\n",
       "        text-align: right;\n",
       "    }\n",
       "</style>\n",
       "<table border=\"1\" class=\"dataframe\">\n",
       "  <thead>\n",
       "    <tr style=\"text-align: right;\">\n",
       "      <th></th>\n",
       "      <th>Data Emissão</th>\n",
       "      <th>OB Origem</th>\n",
       "      <th>NE Origem</th>\n",
       "      <th>Credor</th>\n",
       "      <th>Nome Credor</th>\n",
       "      <th>Fonte de Recurso</th>\n",
       "      <th>Natureza Detalhada</th>\n",
       "      <th>Nome Natureza Detalhada</th>\n",
       "      <th>UG Executora</th>\n",
       "      <th>Nome UG Executora</th>\n",
       "      <th>Mês Emissão</th>\n",
       "      <th>Pago</th>\n",
       "    </tr>\n",
       "  </thead>\n",
       "  <tbody>\n",
       "    <tr>\n",
       "      <th>0</th>\n",
       "      <td>01/09/2017</td>\n",
       "      <td>2017OB805678</td>\n",
       "      <td>2016NE000034</td>\n",
       "      <td>032.022.191-11</td>\n",
       "      <td>MARIANA FIGUEIREDO MIRANDA</td>\n",
       "      <td>100000000</td>\n",
       "      <td>3390.20.01</td>\n",
       "      <td>AUXILIO A PESQUISADORES</td>\n",
       "      <td>154019</td>\n",
       "      <td>CENTRO DE APOIO AO DESENVOLV. TECNOLOGICO- CDT</td>\n",
       "      <td>9</td>\n",
       "      <td>3.250,00</td>\n",
       "    </tr>\n",
       "    <tr>\n",
       "      <th>1</th>\n",
       "      <td>01/09/2017</td>\n",
       "      <td>2017OB805680</td>\n",
       "      <td>2014NE000150</td>\n",
       "      <td>991.772.341-20</td>\n",
       "      <td>MARIANA COSTA BERNARDES MATIAS</td>\n",
       "      <td>6151000000</td>\n",
       "      <td>3390.36.06</td>\n",
       "      <td>SERVICOS TECNICOS PROFISSIONAIS</td>\n",
       "      <td>154019</td>\n",
       "      <td>CENTRO DE APOIO AO DESENVOLV. TECNOLOGICO- CDT</td>\n",
       "      <td>9</td>\n",
       "      <td>6.227,52</td>\n",
       "    </tr>\n",
       "    <tr>\n",
       "      <th>2</th>\n",
       "      <td>01/09/2017</td>\n",
       "      <td>2017OB805681</td>\n",
       "      <td>2015NE000101</td>\n",
       "      <td>694.622.751-49</td>\n",
       "      <td>PEDRO PAULO MURCE MENESES</td>\n",
       "      <td>100049101</td>\n",
       "      <td>3390.36.06</td>\n",
       "      <td>SERVICOS TECNICOS PROFISSIONAIS</td>\n",
       "      <td>154019</td>\n",
       "      <td>CENTRO DE APOIO AO DESENVOLV. TECNOLOGICO- CDT</td>\n",
       "      <td>9</td>\n",
       "      <td>2.003,34</td>\n",
       "    </tr>\n",
       "    <tr>\n",
       "      <th>3</th>\n",
       "      <td>01/09/2017</td>\n",
       "      <td>2017OB805682</td>\n",
       "      <td>2015NE000101</td>\n",
       "      <td>602.122.331-49</td>\n",
       "      <td>ANDRE LUIZ MARQUES SERRANO</td>\n",
       "      <td>100049101</td>\n",
       "      <td>3390.36.06</td>\n",
       "      <td>SERVICOS TECNICOS PROFISSIONAIS</td>\n",
       "      <td>154019</td>\n",
       "      <td>CENTRO DE APOIO AO DESENVOLV. TECNOLOGICO- CDT</td>\n",
       "      <td>9</td>\n",
       "      <td>6.155,74</td>\n",
       "    </tr>\n",
       "    <tr>\n",
       "      <th>4</th>\n",
       "      <td>01/09/2017</td>\n",
       "      <td>2017OB805683</td>\n",
       "      <td>2017NE000069</td>\n",
       "      <td>020.971.891-99</td>\n",
       "      <td>MARCO ANTONIO ALMEIDA</td>\n",
       "      <td>6151000000</td>\n",
       "      <td>3390.20.01</td>\n",
       "      <td>AUXILIO A PESQUISADORES</td>\n",
       "      <td>154019</td>\n",
       "      <td>CENTRO DE APOIO AO DESENVOLV. TECNOLOGICO- CDT</td>\n",
       "      <td>9</td>\n",
       "      <td>1.800,00</td>\n",
       "    </tr>\n",
       "  </tbody>\n",
       "</table>\n",
       "</div>"
      ],
      "text/plain": [
       "  Data Emissão     OB Origem     NE Origem          Credor  \\\n",
       "0   01/09/2017  2017OB805678  2016NE000034  032.022.191-11   \n",
       "1   01/09/2017  2017OB805680  2014NE000150  991.772.341-20   \n",
       "2   01/09/2017  2017OB805681  2015NE000101  694.622.751-49   \n",
       "3   01/09/2017  2017OB805682  2015NE000101  602.122.331-49   \n",
       "4   01/09/2017  2017OB805683  2017NE000069  020.971.891-99   \n",
       "\n",
       "                      Nome Credor Fonte de Recurso Natureza Detalhada  \\\n",
       "0      MARIANA FIGUEIREDO MIRANDA        100000000         3390.20.01   \n",
       "1  MARIANA COSTA BERNARDES MATIAS       6151000000         3390.36.06   \n",
       "2       PEDRO PAULO MURCE MENESES        100049101         3390.36.06   \n",
       "3      ANDRE LUIZ MARQUES SERRANO        100049101         3390.36.06   \n",
       "4           MARCO ANTONIO ALMEIDA       6151000000         3390.20.01   \n",
       "\n",
       "           Nome Natureza Detalhada UG Executora  \\\n",
       "0          AUXILIO A PESQUISADORES       154019   \n",
       "1  SERVICOS TECNICOS PROFISSIONAIS       154019   \n",
       "2  SERVICOS TECNICOS PROFISSIONAIS       154019   \n",
       "3  SERVICOS TECNICOS PROFISSIONAIS       154019   \n",
       "4          AUXILIO A PESQUISADORES       154019   \n",
       "\n",
       "                                Nome UG Executora  Mês Emissão      Pago  \n",
       "0  CENTRO DE APOIO AO DESENVOLV. TECNOLOGICO- CDT            9  3.250,00  \n",
       "1  CENTRO DE APOIO AO DESENVOLV. TECNOLOGICO- CDT            9  6.227,52  \n",
       "2  CENTRO DE APOIO AO DESENVOLV. TECNOLOGICO- CDT            9  2.003,34  \n",
       "3  CENTRO DE APOIO AO DESENVOLV. TECNOLOGICO- CDT            9  6.155,74  \n",
       "4  CENTRO DE APOIO AO DESENVOLV. TECNOLOGICO- CDT            9  1.800,00  "
      ]
     },
     "execution_count": 16,
     "metadata": {},
     "output_type": "execute_result"
    }
   ],
   "source": [
    "df_clean.head()"
   ]
  },
  {
   "cell_type": "code",
   "execution_count": 18,
   "metadata": {},
   "outputs": [],
   "source": [
    "df_clean.to_csv('../csv/parsed/2017_v1.0.csv', index=False)"
   ]
  },
  {
   "cell_type": "code",
   "execution_count": null,
   "metadata": {},
   "outputs": [],
   "source": []
  }
 ],
 "metadata": {
  "kernelspec": {
   "display_name": "Python 3",
   "language": "python",
   "name": "python3"
  },
  "language_info": {
   "codemirror_mode": {
    "name": "ipython",
    "version": 3
   },
   "file_extension": ".py",
   "mimetype": "text/x-python",
   "name": "python",
   "nbconvert_exporter": "python",
   "pygments_lexer": "ipython3",
   "version": "3.7.0"
  }
 },
 "nbformat": 4,
 "nbformat_minor": 2
}
