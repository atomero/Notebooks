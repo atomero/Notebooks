{
 "cells": [
  {
   "cell_type": "code",
   "execution_count": 1,
   "metadata": {},
   "outputs": [
    {
     "name": "stdout",
     "output_type": "stream",
     "text": [
      "Populating the interactive namespace from numpy and matplotlib\n"
     ]
    }
   ],
   "source": [
    "%pylab inline\n",
    "import glob\n",
    "import pandas as pd\n",
    "import math\n",
    "import dateutil"
   ]
  },
  {
   "cell_type": "code",
   "execution_count": 2,
   "metadata": {},
   "outputs": [
    {
     "data": {
      "text/plain": [
       "Index(['Data Emissão', 'OB Origem', 'NE Origem', 'No Processo', 'Credor',\n",
       "       'Nome Credor', 'Finalidade', 'Fonte de Recurso', 'Natureza Detalhada',\n",
       "       'Nome Natureza Detalhada', 'UG Executora', 'Nome UG Executora',\n",
       "       'Mês Emissão', 'Pago'],\n",
       "      dtype='object')"
      ]
     },
     "execution_count": 2,
     "metadata": {},
     "output_type": "execute_result"
    }
   ],
   "source": [
    "path = '../csv/original/'\n",
    "filenames = glob.glob(path + \"/*.csv\")\n",
    "\n",
    "list_ = []\n",
    "frame = pd.DataFrame()\n",
    "\n",
    "for filename in filenames:\n",
    "    df = pd.read_csv(filename, index_col = False)\n",
    "    list_.append(df)\n",
    "\n",
    "frame = pd.concat(list_)\n",
    "frame.columns"
   ]
  },
  {
   "cell_type": "code",
   "execution_count": 3,
   "metadata": {},
   "outputs": [],
   "source": [
    "df_clean = frame"
   ]
  },
  {
   "cell_type": "code",
   "execution_count": 4,
   "metadata": {},
   "outputs": [],
   "source": [
    "df_clean['Pago'] = df_clean['Pago'].str.strip()\n",
    "df_clean['Pago'] = df_clean['Pago'].str.replace(' ','')\n",
    "df_clean['Pago'] = df_clean['Pago'].str.replace('(','')\n",
    "df_clean['Pago'] = df_clean['Pago'].str.replace(')','')\n",
    "df_clean['Pago'] = df_clean['Pago'].str.replace('.','')\n",
    "df_clean['Pago'] = df_clean['Pago'].str.replace(',','.')\n",
    "df_clean['Nome Credor'] = df_clean['Nome Credor'].str.replace('\\n',' ')\n",
    "df_clean['Nome Credor'] = df_clean['Nome Credor'].str.replace('\\r',' ')\n",
    "df_clean['Nome UG Executora'] = df_clean['Nome UG Executora'].str.replace('\\n',' ')\n",
    "df_clean['Nome UG Executora'] = df_clean['Nome UG Executora'].str.replace('\\r',' ')\n",
    "df_clean['Nome Natureza Detalhada'] = df_clean['Nome Natureza Detalhada'].str.replace('\\n',' ')\n",
    "df_clean['Nome Natureza Detalhada'] = df_clean['Nome Natureza Detalhada'].str.replace('\\r',' ')\n",
    "df_clean['Finalidade'] = df_clean['Finalidade'].str.replace('\\n',' ')\n",
    "df_clean['Finalidade'] = df_clean['Finalidade'].str.replace('//','')\n",
    "df_clean['Finalidade'] = df_clean['Finalidade'].str.replace('\\r',' ')"
   ]
  },
  {
   "cell_type": "code",
   "execution_count": 51,
   "metadata": {},
   "outputs": [],
   "source": [
    "df_clean['Nome Natureza Detalhada'] = df_clean['Nome Natureza Detalhada'].str.replace('.',' ')\n",
    "df_clean['Nome Natureza Detalhada'] = df_clean['Nome Natureza Detalhada'].str.replace('-',' ')\n",
    "df_clean['Nome Natureza Detalhada'] = df_clean['Nome Natureza Detalhada'].str.replace(',',' ')\n",
    "df_clean['Nome Natureza Detalhada'] = df_clean['Nome Natureza Detalhada'].str.replace('/',' ')\n",
    "df_clean['Nome Natureza Detalhada'] = df_clean['Nome Natureza Detalhada'].str.replace('  ',' ')\n",
    "df_clean['Nome Natureza Detalhada'] = df_clean['Nome Natureza Detalhada'].str.replace('   ',' ')\n",
    "df_clean['Nome Natureza Detalhada'] = df_clean['Nome Natureza Detalhada'].str.replace('    ',' ')\n",
    "df_clean['Nome Natureza Detalhada'] = df_clean['Nome Natureza Detalhada'].str.replace('T I','TI')\n"
   ]
  },
  {
   "cell_type": "code",
   "execution_count": 52,
   "metadata": {},
   "outputs": [
    {
     "data": {
      "text/html": [
       "<div>\n",
       "<style scoped>\n",
       "    .dataframe tbody tr th:only-of-type {\n",
       "        vertical-align: middle;\n",
       "    }\n",
       "\n",
       "    .dataframe tbody tr th {\n",
       "        vertical-align: top;\n",
       "    }\n",
       "\n",
       "    .dataframe thead th {\n",
       "        text-align: right;\n",
       "    }\n",
       "</style>\n",
       "<table border=\"1\" class=\"dataframe\">\n",
       "  <thead>\n",
       "    <tr style=\"text-align: right;\">\n",
       "      <th></th>\n",
       "      <th>Data Emissão</th>\n",
       "      <th>OB Origem</th>\n",
       "      <th>NE Origem</th>\n",
       "      <th>No Processo</th>\n",
       "      <th>Credor</th>\n",
       "      <th>Nome Credor</th>\n",
       "      <th>Finalidade</th>\n",
       "      <th>Fonte de Recurso</th>\n",
       "      <th>Natureza Detalhada</th>\n",
       "      <th>Nome Natureza Detalhada</th>\n",
       "      <th>UG Executora</th>\n",
       "      <th>Nome UG Executora</th>\n",
       "      <th>Mês Emissão</th>\n",
       "      <th>Pago</th>\n",
       "    </tr>\n",
       "  </thead>\n",
       "  <tbody>\n",
       "    <tr>\n",
       "      <th>0</th>\n",
       "      <td>01/09/2017</td>\n",
       "      <td>2017OB805678</td>\n",
       "      <td>2016NE000034</td>\n",
       "      <td>23106.098701/2017-44</td>\n",
       "      <td>032.022.191-11</td>\n",
       "      <td>MARIANA FIGUEIREDO MIRANDA</td>\n",
       "      <td>PAGAMENTO DE FOLHA 8/2017-746, REFERENTE A AUX...</td>\n",
       "      <td>100000000</td>\n",
       "      <td>3390.20.01</td>\n",
       "      <td>AUXILIO A PESQUISADORES</td>\n",
       "      <td>$154,019.00</td>\n",
       "      <td>CENTRO DE APOIO AO DESENVOLV. TECNOLOGICO- CDT</td>\n",
       "      <td>9</td>\n",
       "      <td>$3,250.00</td>\n",
       "    </tr>\n",
       "    <tr>\n",
       "      <th>1</th>\n",
       "      <td>01/09/2017</td>\n",
       "      <td>2017OB805680</td>\n",
       "      <td>2014NE000150</td>\n",
       "      <td>23106.013536/2014-16</td>\n",
       "      <td>991.772.341-20</td>\n",
       "      <td>MARIANA COSTA BERNARDES MATIAS</td>\n",
       "      <td>PAGAMENTO DE FOLHA 8/2017-776, REFERENTE A PRE...</td>\n",
       "      <td>6151000000</td>\n",
       "      <td>3390.36.06</td>\n",
       "      <td>SERVICOS TECNICOS PROFISSIONAIS</td>\n",
       "      <td>$154,019.00</td>\n",
       "      <td>CENTRO DE APOIO AO DESENVOLV. TECNOLOGICO- CDT</td>\n",
       "      <td>9</td>\n",
       "      <td>$6,227.52</td>\n",
       "    </tr>\n",
       "    <tr>\n",
       "      <th>2</th>\n",
       "      <td>01/09/2017</td>\n",
       "      <td>2017OB805681</td>\n",
       "      <td>2015NE000101</td>\n",
       "      <td>23106.016174/2014-15</td>\n",
       "      <td>694.622.751-49</td>\n",
       "      <td>PEDRO PAULO MURCE MENESES</td>\n",
       "      <td>PAGAMENTO DA FOLHA 08/2017-773  PRESTACAO DE S...</td>\n",
       "      <td>100049101</td>\n",
       "      <td>3390.36.06</td>\n",
       "      <td>SERVICOS TECNICOS PROFISSIONAIS</td>\n",
       "      <td>$154,019.00</td>\n",
       "      <td>CENTRO DE APOIO AO DESENVOLV. TECNOLOGICO- CDT</td>\n",
       "      <td>9</td>\n",
       "      <td>$2,003.34</td>\n",
       "    </tr>\n",
       "    <tr>\n",
       "      <th>3</th>\n",
       "      <td>01/09/2017</td>\n",
       "      <td>2017OB805682</td>\n",
       "      <td>2015NE000101</td>\n",
       "      <td>23106.016174/2014-15</td>\n",
       "      <td>602.122.331-49</td>\n",
       "      <td>ANDRE LUIZ MARQUES SERRANO</td>\n",
       "      <td>PAGAMENTO DA FOLHA 08/2017-774  PRESTACAO DE S...</td>\n",
       "      <td>100049101</td>\n",
       "      <td>3390.36.06</td>\n",
       "      <td>SERVICOS TECNICOS PROFISSIONAIS</td>\n",
       "      <td>$154,019.00</td>\n",
       "      <td>CENTRO DE APOIO AO DESENVOLV. TECNOLOGICO- CDT</td>\n",
       "      <td>9</td>\n",
       "      <td>$6,155.74</td>\n",
       "    </tr>\n",
       "    <tr>\n",
       "      <th>4</th>\n",
       "      <td>01/09/2017</td>\n",
       "      <td>2017OB805683</td>\n",
       "      <td>2017NE000069</td>\n",
       "      <td>23106.106542/2017-69</td>\n",
       "      <td>020.971.891-99</td>\n",
       "      <td>MARCO ANTONIO ALMEIDA</td>\n",
       "      <td>PAGAMENTO DE FOLHA 8/2017-770, REFERENTE A AUX...</td>\n",
       "      <td>6151000000</td>\n",
       "      <td>3390.20.01</td>\n",
       "      <td>AUXILIO A PESQUISADORES</td>\n",
       "      <td>$154,019.00</td>\n",
       "      <td>CENTRO DE APOIO AO DESENVOLV. TECNOLOGICO- CDT</td>\n",
       "      <td>9</td>\n",
       "      <td>$1,800.00</td>\n",
       "    </tr>\n",
       "  </tbody>\n",
       "</table>\n",
       "</div>"
      ],
      "text/plain": [
       "  Data Emissão     OB Origem     NE Origem           No Processo  \\\n",
       "0   01/09/2017  2017OB805678  2016NE000034  23106.098701/2017-44   \n",
       "1   01/09/2017  2017OB805680  2014NE000150  23106.013536/2014-16   \n",
       "2   01/09/2017  2017OB805681  2015NE000101  23106.016174/2014-15   \n",
       "3   01/09/2017  2017OB805682  2015NE000101  23106.016174/2014-15   \n",
       "4   01/09/2017  2017OB805683  2017NE000069  23106.106542/2017-69   \n",
       "\n",
       "           Credor                     Nome Credor  \\\n",
       "0  032.022.191-11      MARIANA FIGUEIREDO MIRANDA   \n",
       "1  991.772.341-20  MARIANA COSTA BERNARDES MATIAS   \n",
       "2  694.622.751-49       PEDRO PAULO MURCE MENESES   \n",
       "3  602.122.331-49      ANDRE LUIZ MARQUES SERRANO   \n",
       "4  020.971.891-99           MARCO ANTONIO ALMEIDA   \n",
       "\n",
       "                                          Finalidade Fonte de Recurso  \\\n",
       "0  PAGAMENTO DE FOLHA 8/2017-746, REFERENTE A AUX...        100000000   \n",
       "1  PAGAMENTO DE FOLHA 8/2017-776, REFERENTE A PRE...       6151000000   \n",
       "2  PAGAMENTO DA FOLHA 08/2017-773  PRESTACAO DE S...        100049101   \n",
       "3  PAGAMENTO DA FOLHA 08/2017-774  PRESTACAO DE S...        100049101   \n",
       "4  PAGAMENTO DE FOLHA 8/2017-770, REFERENTE A AUX...       6151000000   \n",
       "\n",
       "  Natureza Detalhada          Nome Natureza Detalhada UG Executora  \\\n",
       "0         3390.20.01          AUXILIO A PESQUISADORES  $154,019.00   \n",
       "1         3390.36.06  SERVICOS TECNICOS PROFISSIONAIS  $154,019.00   \n",
       "2         3390.36.06  SERVICOS TECNICOS PROFISSIONAIS  $154,019.00   \n",
       "3         3390.36.06  SERVICOS TECNICOS PROFISSIONAIS  $154,019.00   \n",
       "4         3390.20.01          AUXILIO A PESQUISADORES  $154,019.00   \n",
       "\n",
       "                                Nome UG Executora  Mês Emissão      Pago  \n",
       "0  CENTRO DE APOIO AO DESENVOLV. TECNOLOGICO- CDT            9 $3,250.00  \n",
       "1  CENTRO DE APOIO AO DESENVOLV. TECNOLOGICO- CDT            9 $6,227.52  \n",
       "2  CENTRO DE APOIO AO DESENVOLV. TECNOLOGICO- CDT            9 $2,003.34  \n",
       "3  CENTRO DE APOIO AO DESENVOLV. TECNOLOGICO- CDT            9 $6,155.74  \n",
       "4  CENTRO DE APOIO AO DESENVOLV. TECNOLOGICO- CDT            9 $1,800.00  "
      ]
     },
     "execution_count": 52,
     "metadata": {},
     "output_type": "execute_result"
    }
   ],
   "source": [
    "df_clean.head()"
   ]
  },
  {
   "cell_type": "code",
   "execution_count": 53,
   "metadata": {},
   "outputs": [
    {
     "data": {
      "text/plain": [
       "(83431, 14)"
      ]
     },
     "execution_count": 53,
     "metadata": {},
     "output_type": "execute_result"
    }
   ],
   "source": [
    "df_clean.shape"
   ]
  },
  {
   "cell_type": "code",
   "execution_count": 54,
   "metadata": {},
   "outputs": [],
   "source": [
    "df_clean = df_clean.dropna()"
   ]
  },
  {
   "cell_type": "code",
   "execution_count": 55,
   "metadata": {},
   "outputs": [
    {
     "data": {
      "text/plain": [
       "(83431, 14)"
      ]
     },
     "execution_count": 55,
     "metadata": {},
     "output_type": "execute_result"
    }
   ],
   "source": [
    "df_clean.shape"
   ]
  },
  {
   "cell_type": "code",
   "execution_count": null,
   "metadata": {},
   "outputs": [],
   "source": []
  },
  {
   "cell_type": "code",
   "execution_count": 56,
   "metadata": {},
   "outputs": [],
   "source": [
    "df_clean['Mês Emissão'] = df_clean['Mês Emissão'].astype(int)\n",
    "df_clean['Pago'] = df_clean['Pago'].astype(float)"
   ]
  },
  {
   "cell_type": "code",
   "execution_count": 57,
   "metadata": {},
   "outputs": [
    {
     "data": {
      "text/plain": [
       "11    20188\n",
       "5      7819\n",
       "4      6825\n",
       "2      6736\n",
       "3      6582\n",
       "7      6548\n",
       "9      5871\n",
       "8      5609\n",
       "10     5510\n",
       "12     4569\n",
       "6      4316\n",
       "1      2858\n",
       "Name: Mês Emissão, dtype: int64"
      ]
     },
     "execution_count": 57,
     "metadata": {},
     "output_type": "execute_result"
    }
   ],
   "source": [
    "df_clean['Mês Emissão'].value_counts()"
   ]
  },
  {
   "cell_type": "code",
   "execution_count": 58,
   "metadata": {},
   "outputs": [
    {
     "data": {
      "text/plain": [
       "Index(['Data Emissão', 'OB Origem', 'NE Origem', 'No Processo', 'Credor',\n",
       "       'Nome Credor', 'Finalidade', 'Fonte de Recurso', 'Natureza Detalhada',\n",
       "       'Nome Natureza Detalhada', 'UG Executora', 'Nome UG Executora',\n",
       "       'Mês Emissão', 'Pago'],\n",
       "      dtype='object')"
      ]
     },
     "execution_count": 58,
     "metadata": {},
     "output_type": "execute_result"
    }
   ],
   "source": [
    "df_clean.columns"
   ]
  },
  {
   "cell_type": "code",
   "execution_count": 59,
   "metadata": {},
   "outputs": [
    {
     "data": {
      "text/plain": [
       "<bound method NDFrame.describe of Nome Natureza Detalhada\n",
       "13 SALARIO                                       $62,074,505.06\n",
       "13 SALARIO PENSOES CIVIS                          $4,598,805.52\n",
       "13 SALARIO PESSOAL CIVIL                         $26,220,733.49\n",
       "ABONO DE PERMANENCIA                              $9,066,114.39\n",
       "ADICIONAL DE INSALUBRIDADE                        $7,878,905.06\n",
       "ADICIONAL DE INSALUBRIDADE CONTRAT TEMPORA            $2,030.20\n",
       "ADICIONAL DE INSALUBRIDADE CONTRATO TEMPORA          $18,506.75\n",
       "ADICIONAL DE PERICULOSIDADE                         $769,682.33\n",
       "ADICIONAL NOTURNO                                   $979,345.94\n",
       "ADICIONAL NOTURNO DE CONTRATO TEMPORARIO                $328.83\n",
       "ADICIONAL POR PLANTAO HOSPITALAR                  $2,051,024.21\n",
       "ADICIONAL POR TEMPO DE SERVICO PESSOAL CIVIL     $14,524,620.76\n",
       "AJUDA DE CUSTO PESSOAL CIVIL                        $112,979.21\n",
       "ALIMENTOS PARA ANIMAIS                              $192,613.49\n",
       "ANIMAIS PARA PESQUISA E ABATE                         $8,770.00\n",
       "APAR EQUIP UTENS MED O DONT LABOR HOSPIT          $1,337,606.08\n",
       "APAR EQUIP UTENS MED OD NT LABOR HOSPIT             $360,475.38\n",
       "APAR EQUIP UTENS MED ODO NT LABOR HOSPIT            $192,437.10\n",
       "APAR EQUIP UTENS MED ODONT LABOR HOSPIT              $41,118.67\n",
       "APARELHOS DE MEDICAO E ORIENTACAO                    $41,932.48\n",
       "APARELHOS E EQUIPAMENTOS DE COMUNICACAO             $153,569.15\n",
       "APARELHOS E UTENSILIOS DOMESTICOS                    $56,764.53\n",
       "APOIO ADMINISTRATIVO TECNICO E OPERACIONA         $2,004,413.28\n",
       "APOIO ADMINISTRATIVO TECNICO E OPERACIONAL       $33,837,161.45\n",
       "APOSENT ORIGINARIA DE SUBSIDIOS PESSOAL CIV       $1,661,701.15\n",
       "APOSENTADORIAS RESERV REMUNERADA E REFORMAS          $22,307.21\n",
       "APOSENTADORIAS RESERVA REMUNERADA E REFORMAS        $880,733.80\n",
       "AQUISICAO DE SOFTWARE                               $290,721.33\n",
       "ARMAZENAGEM                                         $101,805.75\n",
       "ASSESSORIA E CONSULTORI TECNICA OU JURIDICA             $685.16\n",
       "                                                      ...      \n",
       "SERVICOS DE PUBLICIDADE INSTITUCIONAL               $198,848.41\n",
       "SERVICOS DE PUBLICIDADE LEGAL                           $103.02\n",
       "SERVICOS DE SOCORRO E SALVAMENTO                      $5,307.84\n",
       "SERVICOS DE TECNOLOGIA DA INFORMACAO                $168,676.09\n",
       "SERVICOS DE TELECOMUNICACOES                        $715,373.15\n",
       "SERVICOS EXTRAORDINARIO                              $20,620.59\n",
       "SERVICOS EXTRAORDINARIOS                             $22,153.63\n",
       "SERVICOS GRAFICOS E EDITORIAIS                    $1,670,033.96\n",
       "SERVICOS JUDICIARIOS                                    $157.52\n",
       "SERVICOS TECNICOS PROFISSIONAIS                   $6,295,354.66\n",
       "SERVICOS TECNICOS PROFISSIONAIS DE TI               $647,351.41\n",
       "SUBSTITUICOES                                       $610,201.79\n",
       "SUPORTE DE INFRAESTRUTURA DE TI                   $3,224,709.17\n",
       "TAXAS                                                $24,826.04\n",
       "UNIFORMES TECIDOS E AVIAMENTOS                       $14,994.30\n",
       "VANTAGENS PERM SENT JUD TRANS JU LGADO CIVIL         $32,944.34\n",
       "VANTAGENS PERM SENT JUD TRANS JUL ADO CIVIL          $24,883.92\n",
       "VANTAGENS PERM SENT JUD TRANS JUL GADO CIVIL         $41,132.88\n",
       "VANTAGENS PERM SENT JUD TRANS JULG ADO CIVIL        $199,361.53\n",
       "VANTAGENS PERM SENT JUD TRANS JULGADO CIVIL          $25,067.73\n",
       "VANTAGENS PERMANENTE SENT TRANSIT JULG CIVIL         $36,362.70\n",
       "VANTAGENS PERMANENTES SENT TRANSIT JULG CIVIL       $251,381.58\n",
       "VEICULOS DIVERSOS                                     $5,111.50\n",
       "VENCIMENTOS E SALARIOS                          $175,262,359.61\n",
       "VENCIMENTOS E VANTAGEN FIXAS PESSOAL CIVIL        $1,018,411.97\n",
       "VENCIMENTOS E VANTAGENS FIXAS PESSOAL CIVIL       $2,619,518.61\n",
       "VIGILANCIA OSTENSIVA                             $15,594,234.58\n",
       "VIGILANCIA OSTENSIVA MONITORADA R ASTREAMENTO     $1,410,638.32\n",
       "VIGILANCIA OSTENSIVA MONITORADA RA TREAMENTO      $1,890,706.31\n",
       "VIGILANCIA OSTENSIVA MONITORADA RASTREAMENTO        $305,820.49\n",
       "Name: Pago, Length: 262, dtype: float64>"
      ]
     },
     "execution_count": 59,
     "metadata": {},
     "output_type": "execute_result"
    }
   ],
   "source": [
    "table_gastos = df_clean.groupby('Nome Natureza Detalhada')['Pago'].sum()\n",
    "frame_gastos = table_gastos.to_frame(name='test')\n",
    "\n",
    "pd.options.display.float_format = '${:,.2f}'.format\n",
    "\n",
    "table_gastos.describe"
   ]
  },
  {
   "cell_type": "code",
   "execution_count": 60,
   "metadata": {},
   "outputs": [
    {
     "data": {
      "text/plain": [
       "Nome Natureza Detalhada\n",
       "GRATIFICACAO POR EXERCICIO DE CARGO EFETIVO     $224,616,433.54\n",
       "VENCIMENTOS E SALARIOS                          $175,262,359.61\n",
       "SENT JUD NAO TRANS JULG CARAT CONT AT CIVIL     $142,245,095.56\n",
       "PROVENTOS PESSOAL CIVIL                          $77,441,402.36\n",
       "13 SALARIO                                       $62,074,505.06\n",
       "PENSOES CIVIS                                    $45,609,833.15\n",
       "PROVENTOS PESSOAL CIVI                           $41,233,698.01\n",
       "LIMPEZA E CONSERVACAO                            $38,050,438.30\n",
       "SENT JUD NAO TRANS JULG CARAT CONTINAT CIVIL     $34,505,212.66\n",
       "APOIO ADMINISTRATIVO TECNICO E OPERACIONAL       $33,837,161.45\n",
       "FORNECIMENTO DE ALIMENTACAO                      $33,438,293.61\n",
       "AUXILIO ALIMENTACAO CIVIS                        $29,869,012.63\n",
       "13 SALARIO PESSOAL CIVIL                         $26,220,733.49\n",
       "AUXILIO A PESQUISADORES                          $25,259,956.14\n",
       "BOLSAS DE ESTUDO NO PAIS                         $23,760,346.34\n",
       "VIGILANCIA OSTENSIVA                             $15,594,234.58\n",
       "FERIAS ABONO CONSTITUCIONAL                      $15,124,498.69\n",
       "RESSARCIMENTO ASSISTENCIA MEDICA ODONTOLOGICA    $14,936,875.84\n",
       "ADICIONAL POR TEMPO DE SERVICO PESSOAL CIVIL     $14,524,620.76\n",
       "FERIAS 1 3 CONSTITUCIONAL                        $13,967,061.21\n",
       "SENT JUD NAO TRANS JULG CARAT CONT AT CIVI       $12,821,896.34\n",
       "SERV DE APOIO ADMIN TECNICO E OPERACIONAL        $11,643,949.12\n",
       "SALARIO CONTRATO TEMPORARIO                      $11,630,068.48\n",
       "SERVICOS DE ANALISES E PESQUISAS CIENTIFICAS     $11,302,344.29\n",
       "SERVICOS DE APOIO AO ENSINO                       $9,557,474.00\n",
       "SERVICOS DE AGUA E ESGOTO                         $9,481,020.54\n",
       "ABONO DE PERMANENCIA                              $9,066,114.39\n",
       "ESTAGIARIOS                                       $8,943,786.22\n",
       "OBRAS EM ANDAMENTO                                $8,901,942.30\n",
       "RESIDENCIA MEDICA                                 $8,490,235.59\n",
       "                                                      ...      \n",
       "FERRAMENTAS                                           $3,282.68\n",
       "COMUNICACAO DE DADOS                                  $3,069.85\n",
       "COMISSOES E CORRETAGENS                               $2,919.33\n",
       "MAQ FERRAMENTAS E UTENSILIOS DE OFICINA               $2,390.37\n",
       "MAQUINAS E EQUIPAMENTOS GRAFICOS                      $2,376.00\n",
       "PENS INDENIZ ORIUND DEB P ERIOD VINC SENT JUD         $2,186.24\n",
       "MATERIAL DE ACONDICIONAMENTO E EMBALAGE               $2,153.06\n",
       "ADICIONAL DE INSALUBRIDADE CONTRAT TEMPORA            $2,030.20\n",
       "RESSARCIMENTO DE PASSAGENS E DESP C LOCOMOCAO         $1,937.08\n",
       "FERIAS PAGAMENTO ANTECIPADO CONTRATOS TEMPO           $1,822.87\n",
       "CONFECCAO DE UNIFORMES BANDEIRAS E FLAMULAS           $1,719.00\n",
       "COMISSOES E CORRETAGEN                                $1,572.67\n",
       "PENS INDENIZ ORIUND DEB PERIOD VINC SENT JUD            $936.96\n",
       "MATERIAL PARA COMUNICACOES                              $791.00\n",
       "ASSESSORIA E CONSULTORI TECNICA OU JURIDICA             $685.16\n",
       "MANUT E CONS DE B MOVEI DE OUTRAS NATUREZAS             $677.00\n",
       "INDENIZACOES                                            $625.47\n",
       "BANDEIRAS FLAMULAS E INSIGNIAS                          $500.00\n",
       "JUROS                                                   $397.47\n",
       "ADICIONAL NOTURNO DE CONTRATO TEMPORARIO                $328.83\n",
       "MAQUINAS INSTALACOES E UTENS DE ESCRITORIO              $328.00\n",
       "PENS INDENIZ ORIUND DEB PERIOD VINC SENT JU             $312.32\n",
       "PENS INDENIZ ORIUND DEB ERIOD VINC SENT JUD             $312.32\n",
       "SERVICOS JUDICIARIOS                                    $157.52\n",
       "FRETES E TRANSPORTES D ENCOMENDAS                       $121.14\n",
       "INDENIZACAO DE TRANSPORTE PESSOAL CIVIL                 $105.76\n",
       "SERVICOS DE PUBLICIDADE LEGAL                           $103.02\n",
       "CAPATAZIA ESTIVA E PESAGEM                               $57.20\n",
       "MATERIAL DE PROTECAO E SEGURANCA                         $18.00\n",
       "INDENIZACOES A SERVIDORES EXEC TRAB CAMPO                 $9.14\n",
       "Name: Pago, Length: 262, dtype: float64"
      ]
     },
     "execution_count": 60,
     "metadata": {},
     "output_type": "execute_result"
    }
   ],
   "source": [
    "table_gastos.sort_values(ascending=False)"
   ]
  },
  {
   "cell_type": "code",
   "execution_count": 62,
   "metadata": {},
   "outputs": [],
   "source": [
    "table_gastos.to_csv('../csv/parsed/nd_sum.csv')"
   ]
  },
  {
   "cell_type": "code",
   "execution_count": null,
   "metadata": {},
   "outputs": [],
   "source": []
  },
  {
   "cell_type": "code",
   "execution_count": null,
   "metadata": {},
   "outputs": [],
   "source": []
  },
  {
   "cell_type": "code",
   "execution_count": null,
   "metadata": {},
   "outputs": [],
   "source": []
  }
 ],
 "metadata": {
  "kernelspec": {
   "display_name": "Python 3",
   "language": "python",
   "name": "python3"
  },
  "language_info": {
   "codemirror_mode": {
    "name": "ipython",
    "version": 3
   },
   "file_extension": ".py",
   "mimetype": "text/x-python",
   "name": "python",
   "nbconvert_exporter": "python",
   "pygments_lexer": "ipython3",
   "version": "3.7.0"
  }
 },
 "nbformat": 4,
 "nbformat_minor": 2
}
