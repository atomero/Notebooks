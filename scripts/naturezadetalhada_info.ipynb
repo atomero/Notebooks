{
 "cells": [
  {
   "cell_type": "code",
   "execution_count": 1,
   "metadata": {},
   "outputs": [
    {
     "name": "stdout",
     "output_type": "stream",
     "text": [
      "Populating the interactive namespace from numpy and matplotlib\n"
     ]
    }
   ],
   "source": [
    "%pylab inline\n",
    "import glob\n",
    "import pandas as pd\n",
    "import math\n",
    "import dateutil"
   ]
  },
  {
   "cell_type": "code",
   "execution_count": 2,
   "metadata": {},
   "outputs": [
    {
     "data": {
      "text/plain": [
       "Index(['Data Emissão', 'OB Origem', 'NE Origem', 'No Processo', 'Credor',\n",
       "       'Nome Credor', 'Finalidade', 'Fonte de Recurso', 'Natureza Detalhada',\n",
       "       'Nome Natureza Detalhada', 'UG Executora', 'Nome UG Executora',\n",
       "       'Mês Emissão', 'Pago'],\n",
       "      dtype='object')"
      ]
     },
     "execution_count": 2,
     "metadata": {},
     "output_type": "execute_result"
    }
   ],
   "source": [
    "path = '../csv/original/'\n",
    "filenames = glob.glob(path + \"/*.csv\")\n",
    "\n",
    "list_ = []\n",
    "frame = pd.DataFrame()\n",
    "\n",
    "for filename in filenames:\n",
    "    df = pd.read_csv(filename, index_col = False)\n",
    "    list_.append(df)\n",
    "\n",
    "frame = pd.concat(list_)\n",
    "frame.columns"
   ]
  },
  {
   "cell_type": "code",
   "execution_count": 3,
   "metadata": {},
   "outputs": [],
   "source": [
    "df_clean = frame"
   ]
  },
  {
   "cell_type": "code",
   "execution_count": null,
   "metadata": {},
   "outputs": [],
   "source": []
  },
  {
   "cell_type": "code",
   "execution_count": 4,
   "metadata": {},
   "outputs": [],
   "source": [
    "df_clean['Pago'] = df_clean['Pago'].str.strip()\n",
    "df_clean['Pago'] = df_clean['Pago'].str.replace(' ','')\n",
    "df_clean['Pago'] = df_clean['Pago'].str.replace('(','')\n",
    "df_clean['Pago'] = df_clean['Pago'].str.replace(')','')\n",
    "df_clean['Pago'] = df_clean['Pago'].str.replace('.','')\n",
    "df_clean['Pago'] = df_clean['Pago'].str.replace(',','.')\n",
    "df_clean['Nome Credor'] = df_clean['Nome Credor'].str.replace('\\n',' ')\n",
    "df_clean['Nome Credor'] = df_clean['Nome Credor'].str.replace('\\r',' ')\n",
    "df_clean['Nome UG Executora'] = df_clean['Nome UG Executora'].str.replace('\\n',' ')\n",
    "df_clean['Nome UG Executora'] = df_clean['Nome UG Executora'].str.replace('\\r',' ')\n",
    "df_clean['Nome Natureza Detalhada'] = df_clean['Nome Natureza Detalhada'].str.replace('\\n',' ')\n",
    "df_clean['Nome Natureza Detalhada'] = df_clean['Nome Natureza Detalhada'].str.replace('\\r',' ')\n",
    "df_clean['Finalidade'] = df_clean['Finalidade'].str.replace('\\n',' ')\n",
    "df_clean['Finalidade'] = df_clean['Finalidade'].str.replace('//','')\n",
    "df_clean['Finalidade'] = df_clean['Finalidade'].str.replace('\\r',' ')"
   ]
  },
  {
   "cell_type": "code",
   "execution_count": null,
   "metadata": {},
   "outputs": [],
   "source": []
  },
  {
   "cell_type": "code",
   "execution_count": null,
   "metadata": {},
   "outputs": [],
   "source": []
  },
  {
   "cell_type": "code",
   "execution_count": null,
   "metadata": {},
   "outputs": [],
   "source": []
  },
  {
   "cell_type": "code",
   "execution_count": 5,
   "metadata": {},
   "outputs": [],
   "source": [
    "df_clean['Nome Natureza Detalhada'] = df_clean['Nome Natureza Detalhada'].str.replace('.',' ')\n",
    "df_clean['Nome Natureza Detalhada'] = df_clean['Nome Natureza Detalhada'].str.replace('-',' ')\n",
    "df_clean['Nome Natureza Detalhada'] = df_clean['Nome Natureza Detalhada'].str.replace(',',' ')\n",
    "df_clean['Nome Natureza Detalhada'] = df_clean['Nome Natureza Detalhada'].str.replace('/',' ')\n",
    "df_clean['Nome Natureza Detalhada'] = df_clean['Nome Natureza Detalhada'].str.replace('  ',' ')\n",
    "df_clean['Nome Natureza Detalhada'] = df_clean['Nome Natureza Detalhada'].str.replace('   ',' ')\n",
    "df_clean['Nome Natureza Detalhada'] = df_clean['Nome Natureza Detalhada'].str.replace('    ',' ')\n",
    "df_clean['Nome Natureza Detalhada'] = df_clean['Nome Natureza Detalhada'].str.replace('T I','TI')\n"
   ]
  },
  {
   "cell_type": "code",
   "execution_count": 6,
   "metadata": {},
   "outputs": [
    {
     "ename": "SyntaxError",
     "evalue": "invalid syntax (<ipython-input-6-5649df7eff53>, line 2)",
     "output_type": "error",
     "traceback": [
      "\u001b[0;36m  File \u001b[0;32m\"<ipython-input-6-5649df7eff53>\"\u001b[0;36m, line \u001b[0;32m2\u001b[0m\n\u001b[0;31m    .str.replace('APAR EQUIP UTENS MED O','APARELHOS EQUIPAMENTOS UTENSILIOS')\u001b[0m\n\u001b[0m    ^\u001b[0m\n\u001b[0;31mSyntaxError\u001b[0m\u001b[0;31m:\u001b[0m invalid syntax\n"
     ]
    }
   ],
   "source": [
    "df_clean['Nome Natureza Detalhada'] = df_clean['Nome Natureza Detalhada'].str.replace('APAR EQUIP UTENS MED O','APARELHOS EQUIPAMENTOS UTENSILIOS')"
   ]
  },
  {
   "cell_type": "code",
   "execution_count": null,
   "metadata": {},
   "outputs": [],
   "source": [
    "df_clean.head()"
   ]
  },
  {
   "cell_type": "code",
   "execution_count": null,
   "metadata": {},
   "outputs": [],
   "source": [
    "df_clean.shape"
   ]
  },
  {
   "cell_type": "code",
   "execution_count": null,
   "metadata": {},
   "outputs": [],
   "source": [
    "df_clean = df_clean.dropna()"
   ]
  },
  {
   "cell_type": "code",
   "execution_count": null,
   "metadata": {},
   "outputs": [],
   "source": [
    "df_clean.shape"
   ]
  },
  {
   "cell_type": "code",
   "execution_count": null,
   "metadata": {},
   "outputs": [],
   "source": []
  },
  {
   "cell_type": "code",
   "execution_count": null,
   "metadata": {},
   "outputs": [],
   "source": [
    "df_clean['Mês Emissão'] = df_clean['Mês Emissão'].astype(int)\n",
    "df_clean['Pago'] = df_clean['Pago'].astype(float)"
   ]
  },
  {
   "cell_type": "code",
   "execution_count": null,
   "metadata": {},
   "outputs": [],
   "source": [
    "df_clean['Mês Emissão'].value_counts()"
   ]
  },
  {
   "cell_type": "code",
   "execution_count": null,
   "metadata": {},
   "outputs": [],
   "source": [
    "df_clean.columns"
   ]
  },
  {
   "cell_type": "code",
   "execution_count": null,
   "metadata": {},
   "outputs": [],
   "source": [
    "table_gastos = df_clean.groupby('Nome Natureza Detalhada')['Pago'].sum()\n",
    "frame_gastos = table_gastos.to_frame(name='test')\n",
    "\n",
    "pd.options.display.float_format = '${:,.2f}'.format\n",
    "\n",
    "table_gastos.describe"
   ]
  },
  {
   "cell_type": "code",
   "execution_count": null,
   "metadata": {},
   "outputs": [],
   "source": [
    "table_gastos.sort_values(ascending=False)"
   ]
  },
  {
   "cell_type": "code",
   "execution_count": null,
   "metadata": {},
   "outputs": [],
   "source": [
    "table_gastos.to_csv('../csv/parsed/nd_sum.csv')"
   ]
  },
  {
   "cell_type": "code",
   "execution_count": null,
   "metadata": {},
   "outputs": [],
   "source": []
  },
  {
   "cell_type": "code",
   "execution_count": null,
   "metadata": {},
   "outputs": [],
   "source": []
  },
  {
   "cell_type": "code",
   "execution_count": null,
   "metadata": {},
   "outputs": [],
   "source": []
  }
 ],
 "metadata": {
  "kernelspec": {
   "display_name": "Python 3",
   "language": "python",
   "name": "python3"
  },
  "language_info": {
   "codemirror_mode": {
    "name": "ipython",
    "version": 3
   },
   "file_extension": ".py",
   "mimetype": "text/x-python",
   "name": "python",
   "nbconvert_exporter": "python",
   "pygments_lexer": "ipython3",
   "version": "3.5.2"
  }
 },
 "nbformat": 4,
 "nbformat_minor": 2
}
